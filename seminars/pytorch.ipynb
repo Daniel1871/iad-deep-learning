{
  "cells": [
    {
      "cell_type": "markdown",
      "metadata": {
        "id": "LFS6LuJEHX0P"
      },
      "source": [
        "# Семинар 1: знакомство с PyTorch 🔥\n",
        "\n",
        "## Вступление\n",
        "\n",
        "В этом семинаре мы познакомимся с библиотекой **PyTorch**. Он очень похож на **NumPy**, с одним лишь отличием (на самом деле их больше, но сейчас мы поговорим про самое главное) — **PyTorch** может считать градиенты за вас. Таким образом вам не надо будет руками писать обратный проход в нейросетях.\n",
        "\n",
        "**План семинара**\n",
        "\n",
        "1. Вспоминаем **NumPy** и сравниваем операции его функциональность с **PyTorch**\n",
        "2. Создаем тензоры в **PyTorch** и изучаем больше базовых операций\n",
        "3. Работаем с градиентами руками\n",
        "4. Моя первая нейросеть"
      ]
    },
    {
      "cell_type": "code",
      "execution_count": 85,
      "metadata": {
        "id": "wdmIpFfFHX0Q"
      },
      "outputs": [],
      "source": [
        "import matplotlib.pyplot as plt\n",
        "import numpy as np\n",
        "import pandas as pd\n",
        "import torch\n",
        "import torch.nn.functional as F # свертки, функции активации\n",
        "import torchvision # картинки\n",
        "from torch import nn # настройка слоев: полносвязный, сверточный\n",
        "from tqdm.notebook import tqdm # красиво следить за циклом\n",
        "\n",
        "%matplotlib inline"
      ]
    },
    {
      "cell_type": "markdown",
      "metadata": {
        "collapsed": false,
        "id": "zn4hp7o_HX0R"
      },
      "source": [
        "### 1. Вспоминаем **NumPy** и сравниваем операции его функциональность с **PyTorch**\n",
        "\n",
        "Мы можем создавать матрицы, перемножать их, складывать, транспонировать и в целом совершать любые матричные операции"
      ]
    },
    {
      "cell_type": "code",
      "execution_count": 86,
      "metadata": {
        "colab": {
          "base_uri": "https://localhost:8080/"
        },
        "id": "tZRLoWvKHX0R",
        "outputId": "9e018ca0-5d09-42f6-b8b7-2cb1a957c5be"
      },
      "outputs": [
        {
          "output_type": "execute_result",
          "data": {
            "text/plain": [
              "array([[0.63293931, 0.8411742 , 0.43718748],\n",
              "       [0.68050853, 0.66745754, 0.35410485],\n",
              "       [0.52821886, 0.6992589 , 0.39895697],\n",
              "       [0.09382723, 0.36240235, 0.95739857],\n",
              "       [0.95211418, 0.50836021, 0.32498414]])"
            ]
          },
          "metadata": {},
          "execution_count": 86
        }
      ],
      "source": [
        "# случайная матрица\n",
        "a = np.random.rand(5, 3)\n",
        "a"
      ]
    },
    {
      "cell_type": "code",
      "execution_count": 87,
      "metadata": {
        "colab": {
          "base_uri": "https://localhost:8080/"
        },
        "id": "mXR1EiatHX0R",
        "outputId": "b012919e-f537-4a7c-9499-31109aa0a00d"
      },
      "outputs": [
        {
          "output_type": "execute_result",
          "data": {
            "text/plain": [
              "(5, 3)"
            ]
          },
          "metadata": {},
          "execution_count": 87
        }
      ],
      "source": [
        "# размеры массива\n",
        "a.shape"
      ]
    },
    {
      "cell_type": "code",
      "execution_count": 88,
      "metadata": {
        "colab": {
          "base_uri": "https://localhost:8080/"
        },
        "id": "-dWq-HcBHX0R",
        "outputId": "0da05f92-5e95-4a31-8e94-62c7bd0ba8f7"
      },
      "outputs": [
        {
          "output_type": "execute_result",
          "data": {
            "text/plain": [
              "array([[5.63293931, 5.8411742 , 5.43718748],\n",
              "       [5.68050853, 5.66745754, 5.35410485],\n",
              "       [5.52821886, 5.6992589 , 5.39895697],\n",
              "       [5.09382723, 5.36240235, 5.95739857],\n",
              "       [5.95211418, 5.50836021, 5.32498414]])"
            ]
          },
          "metadata": {},
          "execution_count": 88
        }
      ],
      "source": [
        "# сложение\n",
        "a + 5"
      ]
    },
    {
      "cell_type": "code",
      "execution_count": 89,
      "metadata": {
        "colab": {
          "base_uri": "https://localhost:8080/"
        },
        "id": "n47KFfbVHX0R",
        "outputId": "e1b4063a-6fc8-4989-8212-2df7d4e975d2"
      },
      "outputs": [
        {
          "output_type": "execute_result",
          "data": {
            "text/plain": [
              "array([[1.2993191 , 1.14697887, 1.09694802, 0.78279312, 1.17232899],\n",
              "       [1.14697887, 1.03398167, 0.96745566, 0.64475789, 1.10230914],\n",
              "       [1.09694802, 0.96745566, 0.92714483, 0.68493521, 0.98805476],\n",
              "       [0.78279312, 0.64475789, 0.68493521, 1.05675103, 0.58470452],\n",
              "       [1.17232899, 1.10230914, 0.98805476, 0.58470452, 1.27056621]])"
            ]
          },
          "metadata": {},
          "execution_count": 89
        }
      ],
      "source": [
        "# матричное умножение @\n",
        "a @ a.T"
      ]
    },
    {
      "cell_type": "code",
      "execution_count": 90,
      "metadata": {
        "colab": {
          "base_uri": "https://localhost:8080/"
        },
        "id": "588U8FAAHX0R",
        "outputId": "8f2a0f42-01a3-4eae-aeeb-6d2b7a7ccd35"
      },
      "outputs": [
        {
          "output_type": "execute_result",
          "data": {
            "text/plain": [
              "array([0.63710033, 0.56735697, 0.54214491, 0.47120938, 0.59515284])"
            ]
          },
          "metadata": {},
          "execution_count": 90
        }
      ],
      "source": [
        "# среднее по колонкам (2 оси: строки и стобцы, -1 это последнее измерение, т.е. столбцы)\n",
        "a.mean(axis=-1)"
      ]
    },
    {
      "cell_type": "code",
      "execution_count": 91,
      "metadata": {
        "colab": {
          "base_uri": "https://localhost:8080/"
        },
        "id": "t1DWgKufHX0R",
        "outputId": "97e54c2e-4006-40a0-9980-606fa086b10f"
      },
      "outputs": [
        {
          "output_type": "execute_result",
          "data": {
            "text/plain": [
              "array([[0.63293931, 0.8411742 , 0.43718748, 0.68050853, 0.66745754],\n",
              "       [0.35410485, 0.52821886, 0.6992589 , 0.39895697, 0.09382723],\n",
              "       [0.36240235, 0.95739857, 0.95211418, 0.50836021, 0.32498414]])"
            ]
          },
          "metadata": {},
          "execution_count": 91
        }
      ],
      "source": [
        "# решейп\n",
        "a.reshape(3, 5) # Матрица не транспонирована, а изменена в пространстве. Т.е. порядок элементов не меняется"
      ]
    },
    {
      "cell_type": "markdown",
      "metadata": {
        "id": "h2oG8ToBHX0R"
      },
      "source": [
        "**Разминка**\n",
        "\n",
        "При помощи **NumPy** посчитайте сумму квадратов натуральных чисел от 1 до 10000."
      ]
    },
    {
      "cell_type": "code",
      "execution_count": 92,
      "metadata": {
        "colab": {
          "base_uri": "https://localhost:8080/"
        },
        "id": "TUXmcmaRHX0S",
        "outputId": "9172088a-4115-4cf9-9b9e-eb69164e4709"
      },
      "outputs": [
        {
          "output_type": "execute_result",
          "data": {
            "text/plain": [
              "333383335000"
            ]
          },
          "metadata": {},
          "execution_count": 92
        }
      ],
      "source": [
        "np.sum(np.arange(1, 10001)**2)"
      ]
    },
    {
      "cell_type": "markdown",
      "metadata": {
        "id": "z4RY2PcIHX0S"
      },
      "source": [
        "Аналогичные операции в **PyTorch** очень похожи, но иногда имеют немного другой синтаксис"
      ]
    },
    {
      "cell_type": "code",
      "execution_count": 93,
      "metadata": {
        "colab": {
          "base_uri": "https://localhost:8080/"
        },
        "id": "gg__IdORHX0S",
        "outputId": "608de400-74c9-4d33-93df-bbb2e2efa25f"
      },
      "outputs": [
        {
          "output_type": "execute_result",
          "data": {
            "text/plain": [
              "tensor([[0.8457, 0.9407, 0.3797],\n",
              "        [0.0726, 0.6726, 0.1496],\n",
              "        [0.6212, 0.6697, 0.0619],\n",
              "        [0.8135, 0.1966, 0.5490],\n",
              "        [0.4835, 0.2626, 0.4336]])"
            ]
          },
          "metadata": {},
          "execution_count": 93
        }
      ],
      "source": [
        "# случайный тензор\n",
        "x = torch.rand(5, 3)\n",
        "x"
      ]
    },
    {
      "cell_type": "code",
      "execution_count": 94,
      "metadata": {
        "colab": {
          "base_uri": "https://localhost:8080/"
        },
        "id": "fFDV5ykTHX0S",
        "outputId": "8c2ec8b4-3e67-4a67-8234-3f6c60224570"
      },
      "outputs": [
        {
          "output_type": "execute_result",
          "data": {
            "text/plain": [
              "torch.Size([5, 3])"
            ]
          },
          "metadata": {},
          "execution_count": 94
        }
      ],
      "source": [
        "# размеры тензора (псевдоним)\n",
        "x.shape"
      ]
    },
    {
      "cell_type": "code",
      "execution_count": 95,
      "metadata": {
        "colab": {
          "base_uri": "https://localhost:8080/"
        },
        "id": "8ifA_B-kHX0S",
        "outputId": "33514a87-eeb5-482c-e64b-27a336ec537c"
      },
      "outputs": [
        {
          "output_type": "execute_result",
          "data": {
            "text/plain": [
              "torch.Size([5, 3])"
            ]
          },
          "metadata": {},
          "execution_count": 95
        }
      ],
      "source": [
        "# тоже размеры тензора (из pytorch)\n",
        "x.size()"
      ]
    },
    {
      "cell_type": "code",
      "execution_count": 96,
      "metadata": {
        "colab": {
          "base_uri": "https://localhost:8080/"
        },
        "id": "PHhHWT6RHX0S",
        "outputId": "a4c449b5-a836-4cd3-f033-1ffd246a68e5"
      },
      "outputs": [
        {
          "output_type": "execute_result",
          "data": {
            "text/plain": [
              "tensor([[5.8457, 5.9407, 5.3797],\n",
              "        [5.0726, 5.6726, 5.1496],\n",
              "        [5.6212, 5.6697, 5.0619],\n",
              "        [5.8135, 5.1966, 5.5490],\n",
              "        [5.4835, 5.2626, 5.4336]])"
            ]
          },
          "metadata": {},
          "execution_count": 96
        }
      ],
      "source": [
        "# сложение\n",
        "x + 5"
      ]
    },
    {
      "cell_type": "code",
      "execution_count": 97,
      "metadata": {
        "colab": {
          "base_uri": "https://localhost:8080/"
        },
        "id": "zmB7cM2hHX0S",
        "outputId": "5f6beceb-ac38-4377-c124-d0158e8a7d19"
      },
      "outputs": [
        {
          "output_type": "execute_result",
          "data": {
            "text/plain": [
              "tensor([[1.7443, 0.7509, 1.1788, 1.0814, 0.8205],\n",
              "        [0.7509, 0.4801, 0.5048, 0.2734, 0.2765],\n",
              "        [1.1788, 0.5048, 0.8383, 0.6710, 0.5030],\n",
              "        [1.0814, 0.2734, 0.6710, 1.0019, 0.6830],\n",
              "        [0.8205, 0.2765, 0.5030, 0.6830, 0.4907]])"
            ]
          },
          "metadata": {},
          "execution_count": 97
        }
      ],
      "source": [
        "# матричное умножение\n",
        "# читайте документации по различным вариантам: @, torch.mm(поэлементно), torch.matmul, torch.bmm\n",
        "torch.matmul(x, x.transpose(1, 0)) # или x.matmul(y)"
      ]
    },
    {
      "cell_type": "code",
      "execution_count": 98,
      "metadata": {
        "colab": {
          "base_uri": "https://localhost:8080/"
        },
        "id": "eFt85LbDHX0S",
        "outputId": "d3575249-a47f-4fc1-c633-185b930e5cbc"
      },
      "outputs": [
        {
          "output_type": "execute_result",
          "data": {
            "text/plain": [
              "tensor([[1.7443, 0.7509, 1.1788, 1.0814, 0.8205],\n",
              "        [0.7509, 0.4801, 0.5048, 0.2734, 0.2765],\n",
              "        [1.1788, 0.5048, 0.8383, 0.6710, 0.5030],\n",
              "        [1.0814, 0.2734, 0.6710, 1.0019, 0.6830],\n",
              "        [0.8205, 0.2765, 0.5030, 0.6830, 0.4907]])"
            ]
          },
          "metadata": {},
          "execution_count": 98
        }
      ],
      "source": [
        "# очередное матричное умножение\n",
        "x.mm(x.t())"
      ]
    },
    {
      "cell_type": "code",
      "execution_count": 99,
      "metadata": {
        "colab": {
          "base_uri": "https://localhost:8080/"
        },
        "id": "Gjx8Fyx-HX0S",
        "outputId": "40dd4250-7b92-4ae6-c48d-974838ac3e96"
      },
      "outputs": [
        {
          "output_type": "execute_result",
          "data": {
            "text/plain": [
              "tensor([[0.7152, 0.8849, 0.1442],\n",
              "        [0.0053, 0.4524, 0.0224],\n",
              "        [0.3859, 0.4486, 0.0038],\n",
              "        [0.6618, 0.0387, 0.3014],\n",
              "        [0.2338, 0.0689, 0.1880]])"
            ]
          },
          "metadata": {},
          "execution_count": 99
        }
      ],
      "source": [
        "# поэлементное умножение\n",
        "x * x"
      ]
    },
    {
      "cell_type": "code",
      "execution_count": 100,
      "metadata": {
        "colab": {
          "base_uri": "https://localhost:8080/"
        },
        "id": "veEoBg3jmkyQ",
        "outputId": "b673061d-7acd-48c6-841f-308f03dbfa1f"
      },
      "outputs": [
        {
          "output_type": "execute_result",
          "data": {
            "text/plain": [
              "tensor([[0.7152, 0.8849, 0.1442],\n",
              "        [0.0053, 0.4524, 0.0224],\n",
              "        [0.3859, 0.4486, 0.0038],\n",
              "        [0.6618, 0.0387, 0.3014],\n",
              "        [0.2338, 0.0689, 0.1880]])"
            ]
          },
          "metadata": {},
          "execution_count": 100
        }
      ],
      "source": [
        "x.mul(x)"
      ]
    },
    {
      "cell_type": "code",
      "execution_count": 101,
      "metadata": {
        "colab": {
          "base_uri": "https://localhost:8080/"
        },
        "id": "ZrwWmWw9HX0S",
        "outputId": "8cfff05f-17a9-4271-b653-f9f283942337"
      },
      "outputs": [
        {
          "output_type": "execute_result",
          "data": {
            "text/plain": [
              "tensor([0.7220, 0.2982, 0.4509, 0.5197, 0.3932])"
            ]
          },
          "metadata": {},
          "execution_count": 101
        }
      ],
      "source": [
        "# среднее по колонкам\n",
        "x.mean(dim=-1)"
      ]
    },
    {
      "cell_type": "code",
      "execution_count": 102,
      "metadata": {
        "colab": {
          "base_uri": "https://localhost:8080/"
        },
        "id": "vS7KsuFJHX0S",
        "outputId": "14b3040e-3da7-4f95-be23-df477ce23e0b"
      },
      "outputs": [
        {
          "output_type": "execute_result",
          "data": {
            "text/plain": [
              "torch.Size([3, 5])"
            ]
          },
          "metadata": {},
          "execution_count": 102
        }
      ],
      "source": [
        "# решейп\n",
        "x.view([3, 5]).shape # из pytorch"
      ]
    },
    {
      "cell_type": "code",
      "execution_count": 103,
      "metadata": {
        "colab": {
          "base_uri": "https://localhost:8080/"
        },
        "id": "XX-tc3xJHX0S",
        "outputId": "deb08c06-7071-49a0-ce27-a41e13af2dd4"
      },
      "outputs": [
        {
          "output_type": "execute_result",
          "data": {
            "text/plain": [
              "torch.Size([3, 5])"
            ]
          },
          "metadata": {},
          "execution_count": 103
        }
      ],
      "source": [
        "# или так\n",
        "x.reshape([3, 5]).shape # псевдоним"
      ]
    },
    {
      "cell_type": "code",
      "execution_count": 104,
      "metadata": {
        "colab": {
          "base_uri": "https://localhost:8080/"
        },
        "id": "cKIj1Wu4HX0S",
        "outputId": "2277a9e1-9b16-4599-949e-9f4533fccb22"
      },
      "outputs": [
        {
          "output_type": "execute_result",
          "data": {
            "text/plain": [
              "tensor([[ True, False, False, False, False],\n",
              "        [False, False,  True, False, False],\n",
              "        [False, False, False, False,  True]])"
            ]
          },
          "metadata": {},
          "execution_count": 104
        }
      ],
      "source": [
        "# будьте внимательны и не используйте view для транспонирования осей!\n",
        "x.view_as(x.t()) == x.t()"
      ]
    },
    {
      "cell_type": "markdown",
      "metadata": {
        "id": "jfnWzvdsHX0S"
      },
      "source": [
        "Небольшой пример того, как меняются операции:\n",
        "\n",
        "* `x.reshape([1,2,8]) -> x.view(1,2,8)`\n",
        "\n",
        "* `x.sum(axis=-1) -> x.sum(dim=-1)`\n",
        "\n",
        "* `x.astype(\"int64\") -> x.type(torch.LongTensor)`\n",
        "\n",
        "Для помощи вам есть [таблица](https://github.com/torch/torch7/wiki/Torch-for-Numpy-users), которая поможет вам найти аналог **NumPy** операции в **PyTorch**\n"
      ]
    },
    {
      "cell_type": "markdown",
      "metadata": {
        "id": "NXTuJtgZHX0T"
      },
      "source": [
        "Разминка на PyTorch\n",
        "\n",
        "При помощи pytorch посчитайте сумму квадратов натуральных чисел от 1 до 10000."
      ]
    },
    {
      "cell_type": "code",
      "execution_count": 105,
      "metadata": {
        "colab": {
          "base_uri": "https://localhost:8080/"
        },
        "id": "Ni0Cw3O8HX0T",
        "outputId": "0bd58585-202d-4fc2-f384-7de3cd934ef9"
      },
      "outputs": [
        {
          "output_type": "stream",
          "name": "stderr",
          "text": [
            "<ipython-input-105-655fa89f99fa>:1: UserWarning: torch.range is deprecated and will be removed in a future release because its behavior is inconsistent with Python's range builtin. Instead, use torch.arange, which produces values in [start, end).\n",
            "  torch.sum(torch.range(1,10000, dtype=torch.int)**2) # либо на всё int\n"
          ]
        },
        {
          "output_type": "execute_result",
          "data": {
            "text/plain": [
              "tensor(333383335000)"
            ]
          },
          "metadata": {},
          "execution_count": 105
        }
      ],
      "source": [
        "torch.sum(torch.range(1,10000, dtype=torch.int)**2) # либо на всё int"
      ]
    },
    {
      "cell_type": "markdown",
      "metadata": {
        "id": "iY_ZkBDyHX0T"
      },
      "source": [
        "### 2. Создаем тензоры в **PyTorch** и изучаем больше базовых операций"
      ]
    },
    {
      "cell_type": "code",
      "execution_count": 106,
      "metadata": {
        "colab": {
          "base_uri": "https://localhost:8080/"
        },
        "id": "2P5UQfuHHX0T",
        "outputId": "7adb6ce9-6526-46a8-d493-8ae2f48ba2d2"
      },
      "outputs": [
        {
          "output_type": "execute_result",
          "data": {
            "text/plain": [
              "tensor([[-7.0715e-30,  4.5797e-41,  8.3274e+16],\n",
              "        [ 3.1819e-41,  0.0000e+00,  0.0000e+00],\n",
              "        [ 0.0000e+00,  0.0000e+00,  0.0000e+00],\n",
              "        [ 1.6816e-43,  7.7052e+31,  7.2148e+22],\n",
              "        [ 1.5766e-19,  1.0256e-08,  1.6802e-04]])"
            ]
          },
          "metadata": {},
          "execution_count": 106
        }
      ],
      "source": [
        "# пустой тензор (не инициализированный; с рандомными и никак не заданными числами)\n",
        "x = torch.empty(5, 3)\n",
        "x"
      ]
    },
    {
      "cell_type": "code",
      "execution_count": 107,
      "metadata": {
        "colab": {
          "base_uri": "https://localhost:8080/"
        },
        "id": "IsSAT9-2HX0T",
        "outputId": "024138b5-3804-4fcf-9ee4-91202c9dd70e"
      },
      "outputs": [
        {
          "output_type": "execute_result",
          "data": {
            "text/plain": [
              "tensor([[0.5507, 0.9471, 0.0922],\n",
              "        [0.9152, 0.7409, 0.3016],\n",
              "        [0.5968, 0.1774, 0.9072],\n",
              "        [0.7652, 0.1704, 0.0793],\n",
              "        [0.4572, 0.2084, 0.0424]])"
            ]
          },
          "metadata": {},
          "execution_count": 107
        }
      ],
      "source": [
        "# случайный тензор ~ Uniform[0, 1)\n",
        "x = torch.rand(5, 3)\n",
        "x"
      ]
    },
    {
      "cell_type": "code",
      "execution_count": 108,
      "metadata": {
        "colab": {
          "base_uri": "https://localhost:8080/"
        },
        "id": "PqPmavEDHX0T",
        "outputId": "4120a50d-71fb-4105-f6a1-aeb21638c6a0"
      },
      "outputs": [
        {
          "output_type": "execute_result",
          "data": {
            "text/plain": [
              "tensor([[0., 0., 0.],\n",
              "        [0., 0., 0.],\n",
              "        [0., 0., 0.],\n",
              "        [0., 0., 0.],\n",
              "        [0., 0., 0.]])"
            ]
          },
          "metadata": {},
          "execution_count": 108
        }
      ],
      "source": [
        "# тензор с нулями и указанием типов чисел\n",
        "x = torch.zeros(5, 3, dtype=torch.float32)\n",
        "x"
      ]
    },
    {
      "cell_type": "code",
      "execution_count": 109,
      "metadata": {
        "colab": {
          "base_uri": "https://localhost:8080/"
        },
        "id": "czt6yE5YHX0T",
        "outputId": "4fe2bd5a-1f46-4102-ea5f-f6cdd0593fa7"
      },
      "outputs": [
        {
          "output_type": "execute_result",
          "data": {
            "text/plain": [
              "tensor([5.5000, 3.0000])"
            ]
          },
          "metadata": {},
          "execution_count": 109
        }
      ],
      "source": [
        "# конструируем тензор из питоновского листа\n",
        "x = torch.tensor([5.5, 3])\n",
        "x"
      ]
    },
    {
      "cell_type": "code",
      "execution_count": 110,
      "metadata": {
        "colab": {
          "base_uri": "https://localhost:8080/"
        },
        "id": "pD6Ga2CnHX0T",
        "outputId": "4c64c554-fe13-42f2-8366-03de1ec41ca4"
      },
      "outputs": [
        {
          "output_type": "execute_result",
          "data": {
            "text/plain": [
              "tensor([[1., 1., 1.],\n",
              "        [1., 1., 1.],\n",
              "        [1., 1., 1.],\n",
              "        [1., 1., 1.],\n",
              "        [1., 1., 1.]], dtype=torch.float64)"
            ]
          },
          "metadata": {},
          "execution_count": 110
        }
      ],
      "source": [
        "# используем уже созданный тензор для создания тензора из единичек\n",
        "x1 = x.new_ones(5, 3, dtype=torch.double)\n",
        "x1"
      ]
    },
    {
      "cell_type": "code",
      "execution_count": 111,
      "metadata": {
        "colab": {
          "base_uri": "https://localhost:8080/"
        },
        "id": "Nnf9Qro6HX0T",
        "outputId": "c3b8e390-d084-4b5c-d2e4-df1760d03c62"
      },
      "outputs": [
        {
          "output_type": "execute_result",
          "data": {
            "text/plain": [
              "tensor([[ 0.8797,  0.2538, -0.4914],\n",
              "        [ 0.7623,  1.2237, -0.2120],\n",
              "        [-1.0342, -0.6948, -0.7914],\n",
              "        [-0.5419, -1.4178, -1.5269],\n",
              "        [ 0.2085,  0.1158, -1.5609]])"
            ]
          },
          "metadata": {},
          "execution_count": 111
        }
      ],
      "source": [
        "# создаем случайный тензор с размерами другого тензора\n",
        "x = torch.randn_like(x1, dtype=torch.float)\n",
        "x"
      ]
    },
    {
      "cell_type": "code",
      "execution_count": 112,
      "metadata": {
        "id": "VxzSvjM-HX0T"
      },
      "outputs": [],
      "source": [
        "x = torch.rand(5, 3)\n",
        "y = torch.rand(5, 3)"
      ]
    },
    {
      "cell_type": "code",
      "execution_count": 113,
      "metadata": {
        "colab": {
          "base_uri": "https://localhost:8080/"
        },
        "id": "-zwrgNR0HX0T",
        "outputId": "691a0af3-f226-42b8-d491-b8a8c7875e9a"
      },
      "outputs": [
        {
          "output_type": "execute_result",
          "data": {
            "text/plain": [
              "tensor([[0.3960, 0.3299, 0.2143],\n",
              "        [0.8619, 0.6167, 0.6595],\n",
              "        [0.1664, 0.9277, 0.3313],\n",
              "        [0.7279, 0.6087, 0.9088],\n",
              "        [0.2479, 0.7770, 0.2333]])"
            ]
          },
          "metadata": {},
          "execution_count": 113
        }
      ],
      "source": [
        "x"
      ]
    },
    {
      "cell_type": "code",
      "execution_count": 114,
      "metadata": {
        "colab": {
          "base_uri": "https://localhost:8080/"
        },
        "id": "gvydfSckHX0T",
        "outputId": "0b1d1d38-ba78-41da-db38-ca3cf57a241c"
      },
      "outputs": [
        {
          "output_type": "execute_result",
          "data": {
            "text/plain": [
              "tensor([[0.2008, 0.8047, 0.4357],\n",
              "        [0.6057, 0.3696, 0.9087],\n",
              "        [0.7967, 0.8187, 0.0800],\n",
              "        [0.2429, 0.4781, 0.1032],\n",
              "        [0.4289, 0.4139, 0.7392]])"
            ]
          },
          "metadata": {},
          "execution_count": 114
        }
      ],
      "source": [
        "y"
      ]
    },
    {
      "cell_type": "code",
      "execution_count": 115,
      "metadata": {
        "colab": {
          "base_uri": "https://localhost:8080/"
        },
        "id": "VD5LArYjHX0T",
        "outputId": "3e22ddac-5038-4ab8-c5de-e34db9678172"
      },
      "outputs": [
        {
          "output_type": "execute_result",
          "data": {
            "text/plain": [
              "tensor([[0.5968, 1.1346, 0.6500],\n",
              "        [1.4676, 0.9863, 1.5682],\n",
              "        [0.9631, 1.7464, 0.4113],\n",
              "        [0.9707, 1.0868, 1.0120],\n",
              "        [0.6768, 1.1909, 0.9725]])"
            ]
          },
          "metadata": {},
          "execution_count": 115
        }
      ],
      "source": [
        "# сложение\n",
        "x + y"
      ]
    },
    {
      "cell_type": "code",
      "execution_count": 116,
      "metadata": {
        "colab": {
          "base_uri": "https://localhost:8080/"
        },
        "id": "bRi0LVgUHX0T",
        "outputId": "ff0fc56b-f65d-4e07-f97b-c0786d37147d"
      },
      "outputs": [
        {
          "output_type": "execute_result",
          "data": {
            "text/plain": [
              "tensor([[0.5968, 1.1346, 0.6500],\n",
              "        [1.4676, 0.9863, 1.5682],\n",
              "        [0.9631, 1.7464, 0.4113],\n",
              "        [0.9707, 1.0868, 1.0120],\n",
              "        [0.6768, 1.1909, 0.9725]])"
            ]
          },
          "metadata": {},
          "execution_count": 116
        }
      ],
      "source": [
        "# очередное сложение\n",
        "z = torch.add(x, y)\n",
        "z"
      ]
    },
    {
      "cell_type": "code",
      "execution_count": 117,
      "metadata": {
        "colab": {
          "base_uri": "https://localhost:8080/"
        },
        "id": "uFXuWxk-HX0T",
        "outputId": "dd511803-4456-4279-8ead-642a9f75b27e"
      },
      "outputs": [
        {
          "output_type": "execute_result",
          "data": {
            "text/plain": [
              "tensor([[0.5968, 1.1346, 0.6500],\n",
              "        [1.4676, 0.9863, 1.5682],\n",
              "        [0.9631, 1.7464, 0.4113],\n",
              "        [0.9707, 1.0868, 1.0120],\n",
              "        [0.6768, 1.1909, 0.9725]])"
            ]
          },
          "metadata": {},
          "execution_count": 117
        }
      ],
      "source": [
        "# наконец, ещё одно сложение!\n",
        "torch.add(x, y, out=x) # с перезаписью x\n",
        "x"
      ]
    },
    {
      "cell_type": "code",
      "execution_count": 118,
      "metadata": {
        "colab": {
          "base_uri": "https://localhost:8080/"
        },
        "id": "6Hpmlb8sHX0b",
        "outputId": "eedf5f90-f71f-47c4-910d-5b5fcf979ff5"
      },
      "outputs": [
        {
          "output_type": "execute_result",
          "data": {
            "text/plain": [
              "torch.Size([1, 5, 3])"
            ]
          },
          "metadata": {},
          "execution_count": 118
        }
      ],
      "source": [
        "# добавили измерение в начало, аналог броадкастинга\n",
        "x.unsqueeze(0).size()"
      ]
    },
    {
      "cell_type": "code",
      "execution_count": 119,
      "metadata": {
        "colab": {
          "base_uri": "https://localhost:8080/"
        },
        "id": "kQnWmj5ooGTp",
        "outputId": "c2d57c73-46ff-41c1-e268-d75e14983bd3"
      },
      "outputs": [
        {
          "output_type": "execute_result",
          "data": {
            "text/plain": [
              "tensor([[[0.5968, 1.1346, 0.6500],\n",
              "         [1.4676, 0.9863, 1.5682],\n",
              "         [0.9631, 1.7464, 0.4113],\n",
              "         [0.9707, 1.0868, 1.0120],\n",
              "         [0.6768, 1.1909, 0.9725]]])"
            ]
          },
          "metadata": {},
          "execution_count": 119
        }
      ],
      "source": [
        "x.unsqueeze(0)"
      ]
    },
    {
      "cell_type": "code",
      "execution_count": 120,
      "metadata": {
        "colab": {
          "base_uri": "https://localhost:8080/"
        },
        "id": "8N06sHS7oc4D",
        "outputId": "a9ce2b07-2d57-43e8-d39d-05baa7b61449"
      },
      "outputs": [
        {
          "output_type": "execute_result",
          "data": {
            "text/plain": [
              "tensor([[0.5968, 1.1346, 0.6500],\n",
              "        [1.4676, 0.9863, 1.5682],\n",
              "        [0.9631, 1.7464, 0.4113],\n",
              "        [0.9707, 1.0868, 1.0120],\n",
              "        [0.6768, 1.1909, 0.9725]])"
            ]
          },
          "metadata": {},
          "execution_count": 120
        }
      ],
      "source": [
        "x.squeeze(0) # убрать первое измерение (ничего не писать - убрать все единичные измерения)"
      ]
    },
    {
      "cell_type": "code",
      "execution_count": 121,
      "metadata": {
        "colab": {
          "base_uri": "https://localhost:8080/"
        },
        "id": "C5l4qPukHX0b",
        "outputId": "0666d5f9-77ee-46d8-a341-332edc17f14a"
      },
      "outputs": [
        {
          "output_type": "execute_result",
          "data": {
            "text/plain": [
              "torch.Size([1, 5, 3])"
            ]
          },
          "metadata": {},
          "execution_count": 121
        }
      ],
      "source": [
        "# убрали одно единичное измерение\n",
        "x.unsqueeze(0).unsqueeze(1).squeeze(0).size()"
      ]
    },
    {
      "cell_type": "code",
      "execution_count": 122,
      "metadata": {
        "colab": {
          "base_uri": "https://localhost:8080/"
        },
        "id": "ggi_Do48HX0b",
        "outputId": "18247ed7-25c1-4da1-e026-d4ec66fe29c6"
      },
      "outputs": [
        {
          "output_type": "execute_result",
          "data": {
            "text/plain": [
              "torch.Size([5, 3])"
            ]
          },
          "metadata": {},
          "execution_count": 122
        }
      ],
      "source": [
        "# убрали все единичные измерения\n",
        "x.unsqueeze(0).unsqueeze(1).squeeze().size()"
      ]
    },
    {
      "cell_type": "code",
      "execution_count": 123,
      "metadata": {
        "colab": {
          "base_uri": "https://localhost:8080/"
        },
        "id": "A2_0Y7-lHX0b",
        "outputId": "f700dfeb-5536-460a-b15d-edbb02da9c5d"
      },
      "outputs": [
        {
          "output_type": "execute_result",
          "data": {
            "text/plain": [
              "torch.Size([5, 3])"
            ]
          },
          "metadata": {},
          "execution_count": 123
        }
      ],
      "source": [
        "# операции без _ не меняют тензор, а создают копию\n",
        "x.unsqueeze(0)\n",
        "x.size()"
      ]
    },
    {
      "cell_type": "code",
      "execution_count": 124,
      "metadata": {
        "colab": {
          "base_uri": "https://localhost:8080/"
        },
        "id": "uB2tquKkHX0b",
        "outputId": "052b5429-52cc-470c-b738-c3652bc86555"
      },
      "outputs": [
        {
          "output_type": "execute_result",
          "data": {
            "text/plain": [
              "torch.Size([1, 5, 3])"
            ]
          },
          "metadata": {},
          "execution_count": 124
        }
      ],
      "source": [
        "# операции с _ меняют тензор\n",
        "x.unsqueeze_(0)\n",
        "x.size()"
      ]
    },
    {
      "cell_type": "markdown",
      "metadata": {
        "id": "W3KeDQe7HX0b"
      },
      "source": [
        "Мы можем делать обычные срезы и переводить матрицы из **PyTorch** в **NumPy** и наоборот:"
      ]
    },
    {
      "cell_type": "code",
      "execution_count": 125,
      "metadata": {
        "colab": {
          "base_uri": "https://localhost:8080/"
        },
        "id": "iKLRBmNsHX0b",
        "outputId": "de1568cb-0e3c-4d06-d691-963aeddc8021"
      },
      "outputs": [
        {
          "output_type": "execute_result",
          "data": {
            "text/plain": [
              "True"
            ]
          },
          "metadata": {},
          "execution_count": 125
        }
      ],
      "source": [
        "a = np.ones((3, 5))\n",
        "x = torch.ones((3, 5))\n",
        "np.allclose(x.numpy(), a) # поэлементное сравнение"
      ]
    },
    {
      "cell_type": "code",
      "execution_count": 126,
      "metadata": {
        "colab": {
          "base_uri": "https://localhost:8080/"
        },
        "id": "AGLC0c31HX0b",
        "outputId": "da4ab0ab-41a8-4699-86a7-3c09519695c2"
      },
      "outputs": [
        {
          "output_type": "execute_result",
          "data": {
            "text/plain": [
              "True"
            ]
          },
          "metadata": {},
          "execution_count": 126
        }
      ],
      "source": [
        "np.allclose(x.numpy()[:, 1], a[:, 1]) # тоже самое но взяли колонку отдельную"
      ]
    },
    {
      "cell_type": "code",
      "execution_count": 127,
      "metadata": {
        "colab": {
          "base_uri": "https://localhost:8080/"
        },
        "id": "cUdlwtKIHX0b",
        "outputId": "57fd437d-98a4-46c6-aeac-ba5ff7b4293b"
      },
      "outputs": [
        {
          "output_type": "execute_result",
          "data": {
            "text/plain": [
              "tensor([[1., 1., 1., 1., 1.],\n",
              "        [1., 1., 1., 1., 1.],\n",
              "        [1., 1., 1., 1., 1.]])"
            ]
          },
          "metadata": {},
          "execution_count": 127
        }
      ],
      "source": [
        "torch.from_numpy(x.numpy()) # сначала перевод из torch в numpy, потом из numpy в torch"
      ]
    },
    {
      "cell_type": "markdown",
      "metadata": {
        "id": "6ZT6l6QkHX0b"
      },
      "source": [
        "### 3. Работаем с градиентами руками"
      ]
    },
    {
      "cell_type": "code",
      "execution_count": 128,
      "metadata": {
        "id": "NRUQiCPcJRig"
      },
      "outputs": [],
      "source": [
        "# скачиваем The Boston Housing Dataset\n",
        "data_url = \"http://lib.stat.cmu.edu/datasets/boston\"\n",
        "raw_df = pd.read_csv(data_url, sep=\"\\s+\", skiprows=22, header=None)\n",
        "data = np.hstack([raw_df.values[::2, :], raw_df.values[1::2, :2]])\n",
        "target = raw_df.values[1::2, 2]"
      ]
    },
    {
      "cell_type": "code",
      "execution_count": 129,
      "metadata": {
        "colab": {
          "base_uri": "https://localhost:8080/",
          "height": 430
        },
        "id": "a1pB8NydHX0b",
        "outputId": "02de5178-3233-49b1-8ffc-312d1a6de6f6"
      },
      "outputs": [
        {
          "output_type": "display_data",
          "data": {
            "text/plain": [
              "<Figure size 640x480 with 1 Axes>"
            ],
            "image/png": "[encoded data removed]"
          },
          "metadata": {}
        }
      ],
      "source": [
        "plt.scatter(data[:, -1], target); # точечная диаграмма: x=последний столб в данных, y. Выше процент популяции (больше x) => дешевле дом (меньше y). Хотим построить модель приближения\n",
        "\n",
        "# будет w * x + b = y"
      ]
    },
    {
      "cell_type": "markdown",
      "metadata": {
        "id": "3GY2BXT2HX0c"
      },
      "source": [
        "В **PyTorch** есть возможность при создании тензора указывать нужно ли считать по нему градиент или нет, с помощью параметра `requires_grad`. Когда `requires_grad=True` мы сообщаем фреймворку, о том, что мы хотим следить за всеми тензорами, которые получаются из созданного. Иными словами, у любого тензора, у которого указан данный параметр, будет доступ к цепочке операций и преобразований совершенными с ними. Если эти функции дифференцируемые, то у тензора появляется параметр `.grad`, в котором хранится значение градиента."
      ]
    },
    {
      "cell_type": "markdown",
      "metadata": {
        "id": "Df5F7CbkHX0c"
      },
      "source": [
        "![image.png](data:image/png;base64,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)"
      ]
    },
    {
      "cell_type": "markdown",
      "metadata": {
        "id": "dy3uEcYDHX0c"
      },
      "source": [
        "Если к результирующему тензору применить метод `.backward()`, то фреймворк посчитает по цепочке градиенты для всех тензоров, у которых `requires_grad=True`.\n",
        "\n",
        "\n",
        "forward() делает 1 проход нейронной сети; содержит все функцие, дающие target - функции между x и y.\n",
        "\n",
        "Для обучения меняем веса в зависимости от градиента, значит `requires_grad=True`. А для предсказания не меняем веса, не считаем градиент, значит `requires_grad=False`"
      ]
    },
    {
      "cell_type": "code",
      "execution_count": 130,
      "metadata": {
        "id": "MYM9vW67HX0c"
      },
      "outputs": [],
      "source": [
        "w = torch.rand(1, requires_grad=True) # 1 вес, т.к. одна переменная (иксом будет 1 признак)\n",
        "b = torch.rand(1, requires_grad=True) # 1 смещение, т.к. одна переменная\n",
        "\n",
        "x = torch.tensor(data[:, -1] / data[:, -1].max(), dtype=torch.float32) # нормализация произошла\n",
        "y = torch.tensor(target, dtype=torch.float32)\n",
        "\n",
        "# только создали тензоры и в них нет градиентов\n",
        "assert w.grad is None # переменные, которым разрешили градиент, пока не участвуют ни в каких функциях\n",
        "assert b.grad is None # и не было backward, чтобы посчитать градиент\n",
        "\n",
        "# Не задали функцию и torch не считал градиент <=> его не существует"
      ]
    },
    {
      "cell_type": "code",
      "execution_count": 131,
      "metadata": {
        "colab": {
          "base_uri": "https://localhost:8080/"
        },
        "id": "09vIR0llHX0c",
        "outputId": "ec9ab608-03dc-499e-8968-44116d065246"
      },
      "outputs": [
        {
          "output_type": "execute_result",
          "data": {
            "text/plain": [
              "(torch.Size([506]), torch.Size([506]))"
            ]
          },
          "metadata": {},
          "execution_count": 131
        }
      ],
      "source": [
        "x.size(), y.size()"
      ]
    },
    {
      "cell_type": "code",
      "execution_count": 132,
      "metadata": {
        "id": "7UHuahDmHX0c"
      },
      "outputs": [],
      "source": [
        "y_pred = w * x + b\n",
        "loss = torch.mean((y_pred - y) ** 2)\n",
        "loss.backward() # 1 проход градиентом"
      ]
    },
    {
      "cell_type": "code",
      "execution_count": 133,
      "metadata": {
        "colab": {
          "base_uri": "https://localhost:8080/"
        },
        "id": "TXZR-1vXHX0c",
        "outputId": "c9934da3-16e7-4361-fd14-8ac4deebaf74"
      },
      "outputs": [
        {
          "output_type": "stream",
          "name": "stdout",
          "text": [
            "dL/dw = tensor([-12.1852])\n",
            "dL/db = tensor([-44.2547])\n"
          ]
        }
      ],
      "source": [
        "# сделали операции и посчитали градиенты, появилось значение соответствующих полей\n",
        "assert w.grad is not None\n",
        "assert b.grad is not None\n",
        "\n",
        "print(f\"dL/dw = {w.grad}\")\n",
        "print(f\"dL/db = {b.grad}\")"
      ]
    },
    {
      "cell_type": "markdown",
      "metadata": {
        "id": "naO89QUwHX0c"
      },
      "source": [
        "Для доступа к значениям в тензоре используйте атрибут `.data`:"
      ]
    },
    {
      "cell_type": "code",
      "execution_count": 134,
      "metadata": {
        "colab": {
          "base_uri": "https://localhost:8080/"
        },
        "id": "vNH6m6YbHX0c",
        "outputId": "5a40de51-cf49-4267-84d6-e71963c737e7"
      },
      "outputs": [
        {
          "output_type": "execute_result",
          "data": {
            "text/plain": [
              "(tensor([0.2177]), tensor([-12.1852]))"
            ]
          },
          "metadata": {},
          "execution_count": 134
        }
      ],
      "source": [
        "w.data, w.grad # вес и градиент"
      ]
    },
    {
      "cell_type": "code",
      "execution_count": 135,
      "metadata": {
        "colab": {
          "base_uri": "https://localhost:8080/"
        },
        "id": "b6nWsJ1ZHX0c",
        "outputId": "df369ab9-bc4d-424a-f56b-f5ddfa1ee7a2"
      },
      "outputs": [
        {
          "output_type": "execute_result",
          "data": {
            "text/plain": [
              "tensor([0.2177], requires_grad=True)"
            ]
          },
          "metadata": {},
          "execution_count": 135
        }
      ],
      "source": [
        "w"
      ]
    },
    {
      "cell_type": "code",
      "execution_count": 136,
      "metadata": {
        "colab": {
          "base_uri": "https://localhost:8080/",
          "height": 745
        },
        "id": "JmUTfIApHX0c",
        "outputId": "3a84806e-de7a-4683-acac-d2503077c21a"
      },
      "outputs": [
        {
          "output_type": "display_data",
          "data": {
            "text/plain": [
              "<Figure size 1000x800 with 1 Axes>"
            ],
            "image/png": "[encoded data removed]"
          },
          "metadata": {}
        },
        {
          "output_type": "stream",
          "name": "stdout",
          "text": [
            "loss =  48.237247\n"
          ]
        }
      ],
      "source": [
        "from IPython.display import clear_output\n",
        "\n",
        "for i in range(300): # хотим сделать 300 шагов GD\n",
        "    y_pred = w * x + b # тип ищем loc min\n",
        "\n",
        "    loss = torch.mean((y_pred - y) ** 2) # попробуйте сделать полиномиальную регрессию в данном предсказании и посчитать градиенты после\n",
        "    loss.backward() # 1 раз расчет градиента\n",
        "\n",
        "    # делаем шаг градиентного спуска с lr = .05 (чтобы избежать переобучения)\n",
        "    w.data -= 0.05 * w.grad\n",
        "    b.data -= 0.05 * b.grad\n",
        "\n",
        "    # обнуляем градиенты, чтобы на следующем шаге опять посчитать и не аккумулировать их\n",
        "    w.grad.data.zero_()\n",
        "    b.grad.data.zero_()\n",
        "\n",
        "    # рисуем картинки\n",
        "    if (i + 1) % 5 == 0:\n",
        "        clear_output(True)\n",
        "        plt.figure(figsize=(10, 8))\n",
        "        plt.scatter(x.data.numpy(), y.data.numpy(), label=\"data\")\n",
        "        plt.scatter(\n",
        "            x.data.numpy(),\n",
        "            y_pred.data.numpy(),\n",
        "            color=\"orange\",\n",
        "            linewidth=5,\n",
        "            label=\"predictions\",\n",
        "        )\n",
        "        plt.xlabel(\"LSTAT\", fontsize=14)\n",
        "        plt.ylabel(\"MEDV (target)\", fontsize=14)\n",
        "        plt.title(\"Boston modelling\", fontsize=18)\n",
        "        plt.legend(fontsize=14)\n",
        "        plt.show()\n",
        "\n",
        "        print(\"loss = \", loss.data.numpy())\n",
        "        if loss.data.numpy() < 0.1:\n",
        "            print(\"Done!\")\n",
        "            break\n",
        "# не очень предсказание (выбросы скомпонованы, не учитывает горб слева)"
      ]
    },
    {
      "cell_type": "markdown",
      "metadata": {
        "id": "I0PDQrb5HX0c"
      },
      "source": [
        "### 4. Моя первая нейросеть\n",
        "\n",
        "Для того, чтобы разобраться как обучать нейросети в **PyTorch**, нужно освоить три вещи:\n",
        "\n",
        "1. Как формировать батчи и подавать их на вход сети\n",
        "2. Как задать архитектуру сети (посчитать target)\n",
        "3. Как написать цикл обучения и отслеживать метрики\n",
        "\n",
        "#### Как формировать батчи и подавать их на вход нейросети\n",
        "\n",
        "Чтобы иметь возможность итерироваться по данным и применять к ним преобразования (например, аугментации, о которых вы узнаете позже), нужно создать свой класс унаследованный от `torch.utils.data.Dataset`.\n",
        "\n",
        "У такого класса **должно быть** три метода:\n",
        "\n",
        "* `__init__` — создаёт поля класса (например, путь к папке с файлами с тренировочными объектами)\n",
        "* `__len__` — возвращает информацию о том, сколько объектов у нас в датасете\n",
        "* `__getitem__` — по индексу возвращает семпл и таргет к нему\n",
        "\n",
        "\n",
        "Давайте напишем такой сами, в качестве данных используя рандомные значения."
      ]
    },
    {
      "cell_type": "code",
      "execution_count": 137,
      "metadata": {
        "id": "L4D43TTFHX0c"
      },
      "outputs": [],
      "source": [
        "class RandomDataset(torch.utils.data.Dataset):\n",
        "    \"\"\"\n",
        "    Our random dataset\n",
        "    \"\"\"\n",
        "\n",
        "    def __init__(self, x, y):\n",
        "        self.x = x\n",
        "        self.y = y\n",
        "\n",
        "    def __len__(self):\n",
        "        return len(self.x)\n",
        "\n",
        "    def __getitem__(self, idx):\n",
        "        return {\n",
        "            \"sample\": torch.tensor(self.x[idx, :], dtype=torch.float),\n",
        "            \"target\": self.y[idx],\n",
        "        }"
      ]
    },
    {
      "cell_type": "code",
      "execution_count": 138,
      "metadata": {
        "id": "uHlSUvVrHX0c"
      },
      "outputs": [],
      "source": [
        "x = np.random.rand(1000, 5)\n",
        "y = np.random.rand(1000)"
      ]
    },
    {
      "cell_type": "code",
      "execution_count": 139,
      "metadata": {
        "id": "0qJyBhBUHX0c"
      },
      "outputs": [],
      "source": [
        "our_dataset = RandomDataset(x, y) # создали датасет"
      ]
    },
    {
      "cell_type": "code",
      "execution_count": 140,
      "metadata": {
        "colab": {
          "base_uri": "https://localhost:8080/"
        },
        "id": "08G4an4rHX0c",
        "outputId": "c9762994-d67a-47d7-b78e-ebd9dad60115"
      },
      "outputs": [
        {
          "output_type": "execute_result",
          "data": {
            "text/plain": [
              "{'sample': tensor([0.6212, 0.2550, 0.8333, 0.9943, 0.5788]),\n",
              " 'target': 0.5385791937403571}"
            ]
          },
          "metadata": {},
          "execution_count": 140
        }
      ],
      "source": [
        "our_dataset.__getitem__(1)"
      ]
    },
    {
      "cell_type": "markdown",
      "metadata": {
        "id": "Lbw0vnPKHX0c"
      },
      "source": [
        "Для того, чтобы из данных получать батчи в pytorch используется такая сущность как даталоадер, который принимает на вход класс унаследованный от `torch.utils.data.Dataset`. Сейчас посмотрим на пример:"
      ]
    },
    {
      "cell_type": "code",
      "execution_count": 141,
      "metadata": {
        "id": "kEqrOx8sHX0c"
      },
      "outputs": [],
      "source": [
        "dataloader = torch.utils.data.DataLoader(our_dataset, batch_size=4)"
      ]
    },
    {
      "cell_type": "markdown",
      "metadata": {
        "id": "qb4CGplRHX0c"
      },
      "source": [
        "Работают с ним следующим образом:"
      ]
    },
    {
      "cell_type": "code",
      "execution_count": 142,
      "metadata": {
        "colab": {
          "base_uri": "https://localhost:8080/"
        },
        "id": "F_JhB0B4HX0d",
        "outputId": "0c540487-e6f5-40fb-dcf1-5ff5709a3797"
      },
      "outputs": [
        {
          "output_type": "stream",
          "name": "stdout",
          "text": [
            "Sample:\n",
            "tensor([[6.9998e-01, 2.7853e-04, 3.2492e-02, 9.5788e-01, 6.3164e-01],\n",
            "        [6.2124e-01, 2.5501e-01, 8.3326e-01, 9.9425e-01, 5.7883e-01],\n",
            "        [7.0777e-02, 1.2623e-01, 1.7118e-02, 5.8634e-01, 7.7886e-01],\n",
            "        [1.8968e-01, 9.1342e-02, 5.8553e-01, 5.9059e-01, 7.7687e-01]])\n",
            "Target:\n",
            "tensor([0.0152, 0.5386, 0.0151, 0.1670], dtype=torch.float64)\n"
          ]
        }
      ],
      "source": [
        "batch = next(iter(dataloader)) # Итерируемся по всему датасету и можем доставать батчи\n",
        "\n",
        "print(f\"Sample:\\n{batch['sample']}\")\n",
        "print(f\"Target:\\n{batch['target']}\")"
      ]
    },
    {
      "cell_type": "markdown",
      "metadata": {
        "id": "MWAbxwYaHX0d"
      },
      "source": [
        "**Как сделать нейросеть**"
      ]
    },
    {
      "cell_type": "markdown",
      "metadata": {
        "id": "QAb8doAWHX0d"
      },
      "source": [
        "Для того, чтобы в high-level **PyTorch** создавать нейросети, используется модуль `torch.nn`. Нейросеть должна быть унаследована от класса `nn.Module`. Пример как это может выглядеть:\n",
        "\n",
        "```\n",
        "class Model(nn.Module):\n",
        "    def __init__(self): # инициализация функций для использования в forward\n",
        "        super(Model, self).__init__() # инициализация 1го объекта класса моделей\n",
        "        self.conv1 = nn.Conv2d(1, 20, 5) # инициализации свертки 1 (размера 2 на 2). 1 вход и 20 выходов\n",
        "        self.conv2 = nn.Conv2d(20, 20, 5)\n",
        "\n",
        "    def forward(self, x): # архитектура сети\n",
        "       x = F.relu(self.conv1(x))\n",
        "       return F.relu(self.conv2(x))\n",
        "```\n",
        "\n",
        "Как мы видим на данном примере, у данного класса **должен быть** метод `forward`, который определяет прямой проход нейросети. Также из класса выше видно, что модуль `nn` содержит в себе реализацию большинства слоев, а модуль `nn.functional` -- функций активаций.\n",
        "\n",
        "Есть еще один способ создать нейросеть и давайте его разберем на практике:"
      ]
    },
    {
      "cell_type": "code",
      "execution_count": 143,
      "metadata": {
        "id": "YDtrw94mHX0d"
      },
      "outputs": [],
      "source": [
        "model = nn.Sequential()  # создаем пустую модель, в которую будем добавлять слои (ф-ии последовательно)\n",
        "model.add_module(\n",
        "    \"l1\", nn.Linear(5, 30) # линейное преобразование\n",
        ")  # добавили 1й слой с 5-ю нейронами на вход и 30 на выход\n",
        "model.add_module(\"l2\", nn.ReLU()) # добавили 2й слой с функцией активации\n",
        "model.add_module(\n",
        "    \"l3\", nn.Linear(30, 1)\n",
        ")  # добавили 3й слой с 30 нейронами на вход и 1 на выход\n",
        "\n",
        "\n",
        "another_model = nn.Sequential(nn.Linear(5, 30), nn.ReLU(), nn.Linear(30, 1)) # альтернативный способ"
      ]
    },
    {
      "cell_type": "code",
      "execution_count": 144,
      "metadata": {
        "id": "teVTluJ6HX0d"
      },
      "outputs": [],
      "source": [
        "y_pred = model(batch[\"sample\"])  # получили предсказания модели\n",
        "y_pred"
      ]
    },
    {
      "cell_type": "code",
      "execution_count": 146,
      "metadata": {
        "colab": {
          "base_uri": "https://localhost:8080/"
        },
        "id": "lhqmasIowfwl",
        "outputId": "9c8ceaf2-d265-4c4a-ebbf-bbcafb4df8de"
      },
      "outputs": [
        {
          "output_type": "execute_result",
          "data": {
            "text/plain": [
              "tensor([0.0152, 0.5386, 0.0151, 0.1670], dtype=torch.float64)"
            ]
          },
          "metadata": {},
          "execution_count": 146
        }
      ],
      "source": [
        "batch['target'] # плохо работает модель"
      ]
    },
    {
      "cell_type": "markdown",
      "metadata": {
        "id": "bSI_VfOtHX0d"
      },
      "source": [
        "**Как написать цикл обучения и отслеживать метрики**\n",
        "\n",
        "Давайте теперь соберем теперь загрузку данных, создание модели и обучим на уже созданном для нас датасете MNIST"
      ]
    },
    {
      "cell_type": "code",
      "execution_count": 147,
      "metadata": {
        "id": "zWqvqZexHX0d"
      },
      "outputs": [],
      "source": [
        "# используем готовый класс от торча для загрузки данных для тренировки\n",
        "mnist_train = torchvision.datasets.MNIST(\n",
        "    \"./mnist/\", train=True, download=True, transform=torchvision.transforms.ToTensor()\n",
        ")\n",
        "mnist_val = torchvision.datasets.MNIST(\n",
        "    \"./mnist/\", train=False, download=True, transform=torchvision.transforms.ToTensor()\n",
        ")\n",
        "\n",
        "# так как это уже унаследованный от Dataset класс, его можно сразу обернуть в даталоадер\n",
        "train_dataloader = torch.utils.data.DataLoader(mnist_train, batch_size=4, shuffle=True, num_workers=1)\n",
        "\n",
        "val_dataloader = torch.utils.data.DataLoader(mnist_val, batch_size=4, shuffle=False, num_workers=1)"
      ]
    },
    {
      "cell_type": "code",
      "execution_count": 148,
      "metadata": {
        "colab": {
          "base_uri": "https://localhost:8080/",
          "height": 308
        },
        "id": "_EBB-Nk4HX0d",
        "outputId": "1686b09c-29f5-403e-ddbe-3b257e571d1e",
        "scrolled": true
      },
      "outputs": [
        {
          "output_type": "display_data",
          "data": {
            "text/plain": [
              "<Figure size 640x480 with 2 Axes>"
            ],
            "image/png": "[encoded data removed]"
          },
          "metadata": {}
        }
      ],
      "source": [
        "# посмотрим на то, с чем мы работаем\n",
        "for i in [0, 1]:\n",
        "    plt.subplot(1, 2, i + 1)\n",
        "    plt.imshow(mnist_train[i][0].squeeze(0).numpy().reshape([28, 28]))\n",
        "    plt.title(str(mnist_train[i][1]))\n",
        "plt.show()"
      ]
    },
    {
      "cell_type": "code",
      "execution_count": 149,
      "metadata": {
        "id": "Y7IS9SqbHX0d"
      },
      "outputs": [],
      "source": [
        "model = nn.Sequential(\n",
        "    nn.Flatten(),  # превращаем картинку 28х28 в вектор размером 784\n",
        "    nn.Linear(28 * 28, 128),  # линейный слой (FC1), преобразующий вектор размера 784 в вектор размера 128\n",
        "    nn.ReLU(),  # нелинейность\n",
        "    nn.Linear(128, 10),  # линейный слой, преобразующий вектор размера 128 в вектор размера 10 (10 классов: 0-9)\n",
        ")\n",
        "\n",
        "# создаем оптимизатор(типо ф.потерь), который будет обновлять веса модели\n",
        "optimizer = torch.optim.SGD(model.parameters(), lr=0.05)"
      ]
    },
    {
      "cell_type": "markdown",
      "metadata": {
        "id": "TXiukS4PHX0d"
      },
      "source": [
        "Веса моделей хранятся в виде матриц и выглядят так:"
      ]
    },
    {
      "cell_type": "code",
      "execution_count": 150,
      "metadata": {
        "colab": {
          "base_uri": "https://localhost:8080/"
        },
        "id": "YPu6cBOrHX0d",
        "outputId": "96cc0523-3a98-41d7-b2a4-6dbc23cf9c6c",
        "scrolled": false
      },
      "outputs": [
        {
          "output_type": "execute_result",
          "data": {
            "text/plain": [
              "[('1.weight',\n",
              "  Parameter containing:\n",
              "  tensor([[-4.9114e-05, -1.7332e-03, -2.5222e-02,  ...,  1.1823e-02,\n",
              "            2.1985e-02,  3.8812e-04],\n",
              "          [-2.4256e-02,  1.7167e-02,  1.2950e-02,  ..., -6.1878e-03,\n",
              "            1.4140e-02, -1.1669e-02],\n",
              "          [ 3.0895e-02, -2.4728e-02, -1.6379e-02,  ...,  6.1536e-03,\n",
              "            1.8673e-02,  1.7091e-03],\n",
              "          ...,\n",
              "          [ 6.3073e-03,  1.7558e-02, -2.0548e-02,  ...,  6.3518e-04,\n",
              "            6.0580e-03,  2.3500e-02],\n",
              "          [ 1.7490e-02, -1.7545e-02,  2.5953e-04,  ...,  1.1827e-02,\n",
              "            2.2189e-02, -1.7609e-02],\n",
              "          [ 2.4634e-02, -1.2854e-03,  2.4783e-02,  ...,  2.7035e-02,\n",
              "            1.3621e-02, -2.7914e-02]], requires_grad=True)),\n",
              " ('1.bias',\n",
              "  Parameter containing:\n",
              "  tensor([-0.0093, -0.0205, -0.0007, -0.0084,  0.0107,  0.0025, -0.0090, -0.0064,\n",
              "          -0.0276,  0.0128, -0.0184, -0.0002,  0.0094,  0.0122,  0.0262, -0.0173,\n",
              "          -0.0307, -0.0079, -0.0171,  0.0242, -0.0091,  0.0050,  0.0008,  0.0180,\n",
              "          -0.0124, -0.0268,  0.0076,  0.0265, -0.0066, -0.0142,  0.0278, -0.0344,\n",
              "           0.0187,  0.0078,  0.0207,  0.0113,  0.0133,  0.0121,  0.0268, -0.0163,\n",
              "          -0.0163, -0.0036,  0.0161, -0.0084, -0.0141,  0.0021,  0.0134,  0.0204,\n",
              "           0.0040, -0.0031,  0.0151, -0.0233, -0.0267,  0.0122, -0.0047,  0.0027,\n",
              "          -0.0317, -0.0086,  0.0240, -0.0300, -0.0215,  0.0222,  0.0159,  0.0093,\n",
              "          -0.0331, -0.0134, -0.0263,  0.0297, -0.0090,  0.0202,  0.0228,  0.0218,\n",
              "           0.0321,  0.0186,  0.0042,  0.0014, -0.0164,  0.0348, -0.0246, -0.0243,\n",
              "          -0.0061, -0.0263,  0.0303, -0.0229,  0.0278,  0.0321, -0.0210,  0.0027,\n",
              "          -0.0122, -0.0220,  0.0282, -0.0245, -0.0256, -0.0195, -0.0324, -0.0097,\n",
              "          -0.0016, -0.0067,  0.0139,  0.0221,  0.0166, -0.0048,  0.0127, -0.0321,\n",
              "           0.0265, -0.0119,  0.0222,  0.0273, -0.0017,  0.0071, -0.0325, -0.0154,\n",
              "          -0.0249,  0.0075,  0.0091,  0.0129, -0.0043, -0.0093,  0.0040,  0.0227,\n",
              "           0.0184,  0.0192,  0.0142,  0.0128, -0.0203, -0.0059,  0.0190,  0.0062],\n",
              "         requires_grad=True)),\n",
              " ('3.weight',\n",
              "  Parameter containing:\n",
              "  tensor([[-0.0679,  0.0417, -0.0283,  ...,  0.0375,  0.0297, -0.0355],\n",
              "          [-0.0530, -0.0614, -0.0741,  ...,  0.0649,  0.0035, -0.0001],\n",
              "          [ 0.0276, -0.0165,  0.0264,  ...,  0.0184, -0.0341, -0.0685],\n",
              "          ...,\n",
              "          [-0.0304, -0.0554,  0.0603,  ...,  0.0612, -0.0796,  0.0318],\n",
              "          [-0.0668,  0.0299, -0.0077,  ..., -0.0846,  0.0321, -0.0784],\n",
              "          [ 0.0442,  0.0422,  0.0148,  ..., -0.0553, -0.0399, -0.0731]],\n",
              "         requires_grad=True)),\n",
              " ('3.bias',\n",
              "  Parameter containing:\n",
              "  tensor([-0.0325,  0.0824, -0.0321, -0.0159,  0.0857, -0.0406,  0.0714,  0.0100,\n",
              "           0.0254,  0.0332], requires_grad=True))]"
            ]
          },
          "metadata": {},
          "execution_count": 150
        }
      ],
      "source": [
        "[x for x in model.named_parameters()] # 2 слоя: веса и bias'ы к ним"
      ]
    },
    {
      "cell_type": "markdown",
      "metadata": {
        "id": "C9gtl-4cHX0d"
      },
      "source": [
        "Вместо того, чтобы каждый раз самим рисовать графики в `matplotlib`, мы будем _красиво_ трекать метрики в полуавтоматическом режиме в [wandb](https://wandb.ai). Для этого регистрируемся на сайте, устанавливаем и логинимся (это того стоит).\n",
        "\n",
        "Note. Помимо этого инструмента есть другие альтернативы: Tensorboard (очень минималистичный, работает локально), MLFlow (менее красивый, но опенсорсный), Neptune (примерно как W&B)."
      ]
    },
    {
      "cell_type": "code",
      "execution_count": 151,
      "metadata": {
        "id": "xnSOy9XgLOEu"
      },
      "outputs": [],
      "source": [
        "!pip install wandb --upgrade --quiet"
      ]
    },
    {
      "cell_type": "code",
      "execution_count": 152,
      "metadata": {
        "id": "16wWFtKmLmy-"
      },
      "outputs": [],
      "source": [
        "import wandb"
      ]
    },
    {
      "cell_type": "code",
      "execution_count": 153,
      "metadata": {
        "colab": {
          "base_uri": "https://localhost:8080/"
        },
        "id": "S1gwS4qxR5I4",
        "outputId": "d954f055-7d1f-480f-9d79-4ebf23cdc760"
      },
      "outputs": [
        {
          "output_type": "stream",
          "name": "stderr",
          "text": [
            "\u001b[34m\u001b[1mwandb\u001b[0m: \u001b[33mWARNING\u001b[0m Calling wandb.login() after wandb.init() has no effect.\n"
          ]
        },
        {
          "output_type": "execute_result",
          "data": {
            "text/plain": [
              "True"
            ]
          },
          "metadata": {},
          "execution_count": 153
        }
      ],
      "source": [
        "# логинимся в своего пользователя (предварительно нужно ввести ключ из настроек с wandb.ai через консоль)\n",
        "#!wandb login()\n",
        "wandb.login(key='0a24ada4e31a7cb3bf152f76d5a55cb96ce124af')"
      ]
    },
    {
      "cell_type": "code",
      "execution_count": 154,
      "metadata": {
        "colab": {
          "base_uri": "https://localhost:8080/",
          "height": 396
        },
        "id": "VmwQ_LdcHX0d",
        "outputId": "dbeba746-a092-4cc7-9f86-b7c2d6ff8aa0"
      },
      "outputs": [
        {
          "output_type": "display_data",
          "data": {
            "text/plain": [
              "<IPython.core.display.HTML object>"
            ],
            "text/html": [
              "Finishing last run (ID:nbkxn4ct) before initializing another..."
            ]
          },
          "metadata": {}
        },
        {
          "output_type": "display_data",
          "data": {
            "text/plain": [
              "<IPython.core.display.HTML object>"
            ],
            "text/html": [
              "Waiting for W&B process to finish... <strong style=\"color:green\">(success).</strong>"
            ]
          },
          "metadata": {}
        },
        {
          "output_type": "display_data",
          "data": {
            "text/plain": [
              "<IPython.core.display.HTML object>"
            ],
            "text/html": [
              "<style>\n",
              "    table.wandb td:nth-child(1) { padding: 0 10px; text-align: left ; width: auto;} td:nth-child(2) {text-align: left ; width: 100%}\n",
              "    .wandb-row { display: flex; flex-direction: row; flex-wrap: wrap; justify-content: flex-start; width: 100% }\n",
              "    .wandb-col { display: flex; flex-direction: column; flex-basis: 100%; flex: 1; padding: 10px; }\n",
              "    </style>\n",
              "<div class=\"wandb-row\"><div class=\"wandb-col\"><h3>Run history:</h3><br/><table class=\"wandb\"><tr><td>mean val accuracy</td><td>▁▄█</td></tr><tr><td>mean val loss</td><td>█▅▁</td></tr></table><br/></div><div class=\"wandb-col\"><h3>Run summary:</h3><br/><table class=\"wandb\"><tr><td>mean val accuracy</td><td>0.9773</td></tr><tr><td>mean val loss</td><td>0.07713</td></tr></table><br/></div></div>"
            ]
          },
          "metadata": {}
        },
        {
          "output_type": "display_data",
          "data": {
            "text/plain": [
              "<IPython.core.display.HTML object>"
            ],
            "text/html": [
              " View run <strong style=\"color:#cdcd00\">bright-universe-4</strong> at: <a href='https://wandb.ai/daniel18/pytorch-demo/runs/nbkxn4ct' target=\"_blank\">https://wandb.ai/daniel18/pytorch-demo/runs/nbkxn4ct</a><br/>Synced 5 W&B file(s), 0 media file(s), 0 artifact file(s) and 0 other file(s)"
            ]
          },
          "metadata": {}
        },
        {
          "output_type": "display_data",
          "data": {
            "text/plain": [
              "<IPython.core.display.HTML object>"
            ],
            "text/html": [
              "Find logs at: <code>./wandb/run-20230928_081045-nbkxn4ct/logs</code>"
            ]
          },
          "metadata": {}
        },
        {
          "output_type": "display_data",
          "data": {
            "text/plain": [
              "<IPython.core.display.HTML object>"
            ],
            "text/html": [
              "Successfully finished last run (ID:nbkxn4ct). Initializing new run:<br/>"
            ]
          },
          "metadata": {}
        },
        {
          "output_type": "display_data",
          "data": {
            "text/plain": [
              "<IPython.core.display.HTML object>"
            ],
            "text/html": [
              "Tracking run with wandb version 0.15.11"
            ]
          },
          "metadata": {}
        },
        {
          "output_type": "display_data",
          "data": {
            "text/plain": [
              "<IPython.core.display.HTML object>"
            ],
            "text/html": [
              "Run data is saved locally in <code>/content/wandb/run-20230928_090106-iie8pu0y</code>"
            ]
          },
          "metadata": {}
        },
        {
          "output_type": "display_data",
          "data": {
            "text/plain": [
              "<IPython.core.display.HTML object>"
            ],
            "text/html": [
              "Syncing run <strong><a href='https://wandb.ai/daniel18/pytorch-demo/runs/iie8pu0y' target=\"_blank\">celestial-snowball-5</a></strong> to <a href='https://wandb.ai/daniel18/pytorch-demo' target=\"_blank\">Weights & Biases</a> (<a href='https://wandb.me/run' target=\"_blank\">docs</a>)<br/>"
            ]
          },
          "metadata": {}
        },
        {
          "output_type": "display_data",
          "data": {
            "text/plain": [
              "<IPython.core.display.HTML object>"
            ],
            "text/html": [
              " View project at <a href='https://wandb.ai/daniel18/pytorch-demo' target=\"_blank\">https://wandb.ai/daniel18/pytorch-demo</a>"
            ]
          },
          "metadata": {}
        },
        {
          "output_type": "display_data",
          "data": {
            "text/plain": [
              "<IPython.core.display.HTML object>"
            ],
            "text/html": [
              " View run at <a href='https://wandb.ai/daniel18/pytorch-demo/runs/iie8pu0y' target=\"_blank\">https://wandb.ai/daniel18/pytorch-demo/runs/iie8pu0y</a>"
            ]
          },
          "metadata": {}
        }
      ],
      "source": [
        "# инициализируем проект\n",
        "wandb.init(project=\"pytorch-demo\")\n",
        "# сохраняем параметры сетки в wandb + просим следить за градиентами сетки\n",
        "wandb.watch(model); # Есть метрики системные (использование памяти, работа процессора) - сами там появляются;  метрики бизнесовые (ф.п., точность) - мы передаем их туда"
      ]
    },
    {
      "cell_type": "markdown",
      "metadata": {
        "id": "ynCUEePvHX0d"
      },
      "source": [
        "Можно перейти по ссылке и следить за нашей моделью прямо во время обучения!"
      ]
    },
    {
      "cell_type": "markdown",
      "metadata": {
        "id": "ETDbZX2XPr_K"
      },
      "source": [
        "Одним из основных преимуществ PyTorch является возможность использования GPU-ускорителей на CUDA-совместимых графических процессорах Nvidia Compute Unified Device Architecture (CUDA) и Apple Metal Performance Shaders (MPS). До сих пор все, что мы делали, было на процессоре.\n",
        "\n",
        "Во-первых, мы должны проверить, доступен ли графический процессор, с помощью метода ```is_available()```. Если у вас не установлен CUDA-совместимый графический процессор и драйверы CUDA, то после исполнения ячейки ниже в качестве девайса будет выступать CPU."
      ]
    },
    {
      "cell_type": "code",
      "execution_count": 155,
      "metadata": {
        "id": "ltFvCO_oMtyW"
      },
      "outputs": [],
      "source": [
        "if torch.cuda.is_available():\n",
        "    device = torch.device('cuda')\n",
        "else:\n",
        "    device = torch.device('cpu')"
      ]
    },
    {
      "cell_type": "code",
      "execution_count": 156,
      "metadata": {
        "colab": {
          "base_uri": "https://localhost:8080/"
        },
        "id": "4SayLyf20fvG",
        "outputId": "f520b8bf-c59f-4132-e65b-ce18f4e2beee"
      },
      "outputs": [
        {
          "output_type": "execute_result",
          "data": {
            "text/plain": [
              "device(type='cuda')"
            ]
          },
          "metadata": {},
          "execution_count": 156
        }
      ],
      "source": [
        "device # делаем вычисления на серверах (более мощных). Надо данные загружать на device"
      ]
    },
    {
      "cell_type": "markdown",
      "metadata": {
        "id": "iRgfeTZBQjzJ"
      },
      "source": [
        "Как только мы определили, что один или несколько графических процессоров доступны, нам нужно поместить наши данные туда, где графический процессор сможет их увидеть. Ваш процессор выполняет вычисления над данными в оперативной памяти вашего компьютера. К вашему графическому процессору подключена выделенная память. Всякий раз, когда вы хотите выполнить вычисление на устройстве, вы должны переместить все данные, необходимые для этого вычисления, в память, доступную этому устройству.\n",
        "\n",
        "По умолчанию новые тензоры создаются на CPU, поэтому нам нужно указать, когда мы хотим создать наш тензор на графическом процессоре, с помощью необязательного аргумента устройства device."
      ]
    },
    {
      "cell_type": "code",
      "execution_count": 157,
      "metadata": {
        "colab": {
          "base_uri": "https://localhost:8080/"
        },
        "id": "M-ahHjk2Q27M",
        "outputId": "90004fb9-5a7b-4fb5-8105-31a142a9a208"
      },
      "outputs": [
        {
          "output_type": "execute_result",
          "data": {
            "text/plain": [
              "tensor([[0.3372, 0.7785],\n",
              "        [0.8605, 0.3741]], device='cuda:0')"
            ]
          },
          "metadata": {},
          "execution_count": 157
        }
      ],
      "source": [
        "x = torch.rand(2, 2, device=device)\n",
        "x"
      ]
    },
    {
      "cell_type": "markdown",
      "metadata": {
        "id": "s0sdaoQpRAaf"
      },
      "source": [
        "Чтобы выполнять вычисления с использованием двух или более тензоров, все тензоры должны находиться на одном устройстве.\n",
        "\n",
        "Если у вас уже есть тензор, расположенный на одном устройстве, вы можете переместить его на другое с помощью метода ```to()```.\n",
        "Перенесем созданную ранее модель на наш новый девайс."
      ]
    },
    {
      "cell_type": "code",
      "execution_count": 158,
      "metadata": {
        "colab": {
          "base_uri": "https://localhost:8080/"
        },
        "id": "xM8Syj_CNRkh",
        "outputId": "cb1ca35f-c2f5-4d20-a0f4-5387d6a6ae8f"
      },
      "outputs": [
        {
          "output_type": "execute_result",
          "data": {
            "text/plain": [
              "Sequential(\n",
              "  (0): Flatten(start_dim=1, end_dim=-1)\n",
              "  (1): Linear(in_features=784, out_features=128, bias=True)\n",
              "  (2): ReLU()\n",
              "  (3): Linear(in_features=128, out_features=10, bias=True)\n",
              ")"
            ]
          },
          "metadata": {},
          "execution_count": 158
        }
      ],
      "source": [
        "model.to(device)"
      ]
    },
    {
      "cell_type": "code",
      "execution_count": 159,
      "metadata": {
        "colab": {
          "base_uri": "https://localhost:8080/",
          "height": 325,
          "referenced_widgets": [
            "2237b775b10f4eaa966143e62a69a282",
            "5583cf1b44d94b6da3e27298305dd318",
            "d51e8d1552994653a896164b32db97fe",
            "ba1d1220cdf8468bbf350428cc985223",
            "26068f93e6ca44a9b18bf915d3687adb",
            "e5b532e05e8a482d8571f44d78a46127",
            "708e40028b624ca98e50f3768c2f0548",
            "53d2930833974a6ba0db0ee5ef7faf2a",
            "288aa0b17476422794f6fa4308290863",
            "778db3af3ee74a6b90857e05b2ae7f59",
            "c0da97f4c2814fd88a6937a633fcbdab",
            "4c645a1ac24c423a9acb75fe885fca97",
            "6728733b3b3242ed966a1e55da2946ff",
            "38a1810195b94876b679e2749f504a17",
            "d9d1e6cb134c4bd9925cdbf59f52ed8f",
            "d5679f376d5145f2bba62486226f80ac",
            "348c6c65dee24b4f988b26732cadb5cb",
            "098e1d93e59d45acb9dfd6a338b3e568",
            "d05af14b95334ec2a87a81e900f6c92b",
            "b74b4de46bf5494890fa005b386c2e59",
            "753b3b8c194f4ad0ad34e2b0a79a20e7",
            "4ffdb937d0c34c94b35b6d614485eb71",
            "fbe3aae0496440e1b1e252937fb9afd5",
            "c90cb47370c64ea88f8cccfeb2c78b53",
            "a5023c3d0e454a8bba6bcd41b09254fc",
            "ac36a61386794d389d4b2315cb12521f",
            "3e03f33964434c5b88719d4446fff4a4",
            "9d02b9c16d27406d9a315a02afc7baca",
            "940cb53288fc4b62884b16769bf8c25c",
            "2459a6d64ca146598bfd18e9fe20ad81",
            "4885fdbc9f174b209b64c9d723c70090",
            "ac846fd6b04b42b4ba4761647ca61bd9",
            "1660f440cd2b42dc93918ae5436f24eb",
            "70785cb534c540388770a4500966ec8a",
            "489eb4cd16f64ccf83aeed27e7d9a26d",
            "27a7ae455bf244ceb6c3f9e2bc6f662a",
            "d0fadac5875d4097aeb0ffb6805515c2",
            "32433ad1f9e84d0f93d7fb21305e1637",
            "839ef7a5beb34b908752012a40d4ba50",
            "6662bac7083242578f31f0514d3d57cb",
            "8a4e9228d49b4554a0e2272e100e7658",
            "719dcdd6de414d438a5979c21977215c",
            "350e96060e4545c6a3128b7aa238fa2e",
            "4a231159b33a4219a7e59cd45543ea91",
            "c38dfd03a215407c8a07d7c3048ed90f",
            "01279b7b05c845ad8fe0b750883e5ae7",
            "c123f931c51b442c9a695c2b5340c854",
            "0be51d7983c8431dbb48d669502496e9",
            "937366a76a174e1d8fb3e260b2264de2",
            "a64fcaf1efbf44868f39c901a9dae31a",
            "4bea2bf556414d609412ba389a5705ef",
            "7225322788b64bcf84b8d5b2b371885b",
            "427529f2bddd485a95a2fe3fe235c448",
            "4b4eebb74a7848108762b619426db252",
            "d8c52f4fa9f344648a0906b3d5825be9",
            "fce17b79f5804acfa9ab93b5c051c373",
            "395cdb56acd84842a8333217c59b7917",
            "73893ef6a6804860a8b71341ee3b079e",
            "6049e6259c4e4437babf59911a962732",
            "5006888e8e52426885a780ff4e934154",
            "2de7c0d869d14bdb89b25ed46279b79d",
            "5cdffc7ee13e48aab9710d77fa90b394",
            "821551a8dbde40d9b4af6dae04f28f40",
            "5f5d9f455dba42cdb8d0f54d18a617ed",
            "cfbfdbb4007e4e57a59a2c6ce916f6a6",
            "34cb18bbabe84d94ba3188dc8c16e141",
            "7ec93a5ea17146ff8d39a70524860933",
            "15006b68b5664ec39f582c4164a8b765",
            "c8003608c46a41979e45319840a61289",
            "9e59c2cf53d34cd0b4e5902f09cb64a4",
            "54f306229caa4b2280328cc4b9a7d20d",
            "e0fe0c8d682d43fa9d569578a7091dd8",
            "1315994de7e14e1a83ba8d87201decbd",
            "78599df56a874bf58679b53b30c149de",
            "389a21c1ae5a410a9fc6370573912cc9",
            "adec3b7d3cce4c1e8edcd41725f55019",
            "88ad0eb944ea4e859924ddd7425922b3",
            "304e65828d7241318940c173cee6a666",
            "1d223a6069d243fd819f618b830f097c",
            "085056fa6d1b47a4813dfe78ca8f2bb4",
            "63f4b0979cbe4628945f98a1480f6baa",
            "3da0c2541ef442fa84eea014d97b5b0c",
            "50b8019078c44b76be3fbe3f158d21c0",
            "9eed20b622b94267a6910731455bf13d",
            "f723ce6903a04b5894fd714a84287456",
            "f5eecee983a04176bb1869ac22869860",
            "01e89355111d4f859ce137a66563a2fb",
            "f12d093eac5649ba93c0761c7d3b24f5"
          ]
        },
        "id": "s69z748zHX0d",
        "scrolled": false,
        "outputId": "ef01e4fa-d7c3-4036-8e78-b64746480e8b"
      },
      "outputs": [
        {
          "output_type": "display_data",
          "data": {
            "text/plain": [
              "  0%|          | 0/15000 [00:00<?, ?it/s]"
            ],
            "application/vnd.jupyter.widget-view+json": {
              "version_major": 2,
              "version_minor": 0,
              "model_id": "2237b775b10f4eaa966143e62a69a282"
            }
          },
          "metadata": {}
        },
        {
          "output_type": "display_data",
          "data": {
            "text/plain": [
              "  0%|          | 0/2500 [00:00<?, ?it/s]"
            ],
            "application/vnd.jupyter.widget-view+json": {
              "version_major": 2,
              "version_minor": 0,
              "model_id": "4c645a1ac24c423a9acb75fe885fca97"
            }
          },
          "metadata": {}
        },
        {
          "output_type": "stream",
          "name": "stdout",
          "text": [
            "Epoch: 0, loss: 0.10373854637145996, accuracy: 0.9687\n"
          ]
        },
        {
          "output_type": "display_data",
          "data": {
            "text/plain": [
              "  0%|          | 0/15000 [00:00<?, ?it/s]"
            ],
            "application/vnd.jupyter.widget-view+json": {
              "version_major": 2,
              "version_minor": 0,
              "model_id": "fbe3aae0496440e1b1e252937fb9afd5"
            }
          },
          "metadata": {}
        },
        {
          "output_type": "display_data",
          "data": {
            "text/plain": [
              "  0%|          | 0/15000 [00:00<?, ?it/s]"
            ],
            "application/vnd.jupyter.widget-view+json": {
              "version_major": 2,
              "version_minor": 0,
              "model_id": "70785cb534c540388770a4500966ec8a"
            }
          },
          "metadata": {}
        },
        {
          "output_type": "display_data",
          "data": {
            "text/plain": [
              "  0%|          | 0/2500 [00:00<?, ?it/s]"
            ],
            "application/vnd.jupyter.widget-view+json": {
              "version_major": 2,
              "version_minor": 0,
              "model_id": "c38dfd03a215407c8a07d7c3048ed90f"
            }
          },
          "metadata": {}
        },
        {
          "output_type": "stream",
          "name": "stdout",
          "text": [
            "Epoch: 2, loss: 0.11220141500234604, accuracy: 0.9645\n"
          ]
        },
        {
          "output_type": "display_data",
          "data": {
            "text/plain": [
              "  0%|          | 0/15000 [00:00<?, ?it/s]"
            ],
            "application/vnd.jupyter.widget-view+json": {
              "version_major": 2,
              "version_minor": 0,
              "model_id": "fce17b79f5804acfa9ab93b5c051c373"
            }
          },
          "metadata": {}
        },
        {
          "output_type": "display_data",
          "data": {
            "text/plain": [
              "  0%|          | 0/15000 [00:00<?, ?it/s]"
            ],
            "application/vnd.jupyter.widget-view+json": {
              "version_major": 2,
              "version_minor": 0,
              "model_id": "7ec93a5ea17146ff8d39a70524860933"
            }
          },
          "metadata": {}
        },
        {
          "output_type": "display_data",
          "data": {
            "text/plain": [
              "  0%|          | 0/2500 [00:00<?, ?it/s]"
            ],
            "application/vnd.jupyter.widget-view+json": {
              "version_major": 2,
              "version_minor": 0,
              "model_id": "304e65828d7241318940c173cee6a666"
            }
          },
          "metadata": {}
        },
        {
          "output_type": "stream",
          "name": "stdout",
          "text": [
            "Epoch: 4, loss: 0.07602092623710632, accuracy: 0.9781\n"
          ]
        }
      ],
      "source": [
        "# всего у нас будет 5 эпох (5 раз подряд пройдемся по всем батчам из трейна)\n",
        "for epoch in range(5):\n",
        "    for x_train, y_train in tqdm(train_dataloader):  # берем батч из трейн лоадера\n",
        "        y_pred = model(x_train.to(device))  # делаем предсказания (подаем на вход модели батч, загруженный на девайс. Далее применяем модель нашу: 2 слоя + ReLu)\n",
        "        loss = F.cross_entropy(y_pred, y_train.to(device))  # считаем лосс\n",
        "        loss.backward()  # считаем градиенты обратным проходом\n",
        "        optimizer.step()  # обновляем параметры сети (веса, смещения)\n",
        "        optimizer.zero_grad()  # обнуляем посчитанные градиенты параметров\n",
        "\n",
        "    if epoch % 2 == 0:\n",
        "        val_loss = []  # сюда будем складывать **средний по бачу** лосс\n",
        "        val_accuracy = []\n",
        "        with torch.no_grad():  # на валидации запрещаем фреймворку считать градиенты по параметрам <=> выключить подсчет градиентов\n",
        "            for x_val, y_val in tqdm(\n",
        "                val_dataloader\n",
        "            ):  # берем батч из валидационного лоадера (датасета)\n",
        "                y_pred = model(x_val.to(device))  # делаем предсказания\n",
        "                loss = F.cross_entropy(y_pred, y_val.to(device))  # считаем лосс\n",
        "                val_loss.append(loss.cpu().numpy())  # добавляем в массив (метрик)\n",
        "                val_accuracy.extend(\n",
        "                    (torch.argmax(y_pred, dim=-1) == y_val.to(device)).cpu().numpy().tolist()\n",
        "                )\n",
        "\n",
        "        # скидываем метрики на wandb (внешний сервер) и автоматом смотрим на графики\n",
        "        wandb.log(\n",
        "            {\n",
        "                \"mean val loss\": np.mean(val_loss), # считаем среднее для списка метрик\n",
        "                \"mean val accuracy\": np.mean(val_accuracy),\n",
        "            }\n",
        "        )\n",
        "\n",
        "        # печатаем метрики\n",
        "        print(\n",
        "            f\"Epoch: {epoch}, loss: {np.mean(val_loss)}, accuracy: {np.mean(val_accuracy)}\"\n",
        "        )\n",
        "# Нейронка не сильно дообучается со следующими итерациями и достигла потолка на первой => 5 эпох слишком много"
      ]
    },
    {
      "cell_type": "markdown",
      "metadata": {
        "id": "B5GusrsVHX0d"
      },
      "source": [
        "### Дополнительные материалы\n",
        "\n",
        "* [Хорошая книга про pytorch](https://isip.piconepress.com/courses/temple/ece_4822/resources/books/Deep-Learning-with-PyTorch.pdf)\n",
        "* [Использование pytorch на GPU](https://pytorch.org/docs/master/notes/cuda.html)\n",
        "* [Pytorch за 60 минут](http://pytorch.org/tutorials/beginner/deep_learning_60min_blitz.html)\n",
        "* [Как устроено автоматическое дифференцирование в pytorch](http://videolectures.net/site/normal_dl/tag=1129745/deeplearning2017_johnson_automatic_differentiation_01.pdf)"
      ]
    }
  ],
  "metadata": {
    "accelerator": "GPU",
    "colab": {
      "provenance": []
    },
    "kernelspec": {
      "display_name": "Python 3",
      "name": "python3"
    },
    "language_info": {
      "codemirror_mode": {
        "name": "ipython",
        "version": 3
      },
      "file_extension": ".py",
      "mimetype": "text/x-python",
      "name": "python",
      "nbconvert_exporter": "python",
      "pygments_lexer": "ipython3",
      "version": "3.9.10"
    },
    "widgets": {
      "application/vnd.jupyter.widget-state+json": {
        "2237b775b10f4eaa966143e62a69a282": {
          "model_module": "@jupyter-widgets/controls",
          "model_name": "HBoxModel",
          "model_module_version": "1.5.0",
          "state": {
            "_dom_classes": [],
            "_model_module": "@jupyter-widgets/controls",
            "_model_module_version": "1.5.0",
            "_model_name": "HBoxModel",
            "_view_count": null,
            "_view_module": "@jupyter-widgets/controls",
            "_view_module_version": "1.5.0",
            "_view_name": "HBoxView",
            "box_style": "",
            "children": [
              "IPY_MODEL_5583cf1b44d94b6da3e27298305dd318",
              "IPY_MODEL_d51e8d1552994653a896164b32db97fe",
              "IPY_MODEL_ba1d1220cdf8468bbf350428cc985223"
            ],
            "layout": "IPY_MODEL_26068f93e6ca44a9b18bf915d3687adb"
          }
        },
        "5583cf1b44d94b6da3e27298305dd318": {
          "model_module": "@jupyter-widgets/controls",
          "model_name": "HTMLModel",
          "model_module_version": "1.5.0",
          "state": {
            "_dom_classes": [],
            "_model_module": "@jupyter-widgets/controls",
            "_model_module_version": "1.5.0",
            "_model_name": "HTMLModel",
            "_view_count": null,
            "_view_module": "@jupyter-widgets/controls",
            "_view_module_version": "1.5.0",
            "_view_name": "HTMLView",
            "description": "",
            "description_tooltip": null,
            "layout": "IPY_MODEL_e5b532e05e8a482d8571f44d78a46127",
            "placeholder": "​",
            "style": "IPY_MODEL_708e40028b624ca98e50f3768c2f0548",
            "value": "100%"
          }
        },
        "d51e8d1552994653a896164b32db97fe": {
          "model_module": "@jupyter-widgets/controls",
          "model_name": "FloatProgressModel",
          "model_module_version": "1.5.0",
          "state": {
            "_dom_classes": [],
            "_model_module": "@jupyter-widgets/controls",
            "_model_module_version": "1.5.0",
            "_model_name": "FloatProgressModel",
            "_view_count": null,
            "_view_module": "@jupyter-widgets/controls",
            "_view_module_version": "1.5.0",
            "_view_name": "ProgressView",
            "bar_style": "success",
            "description": "",
            "description_tooltip": null,
            "layout": "IPY_MODEL_53d2930833974a6ba0db0ee5ef7faf2a",
            "max": 15000,
            "min": 0,
            "orientation": "horizontal",
            "style": "IPY_MODEL_288aa0b17476422794f6fa4308290863",
            "value": 15000
          }
        },
        "ba1d1220cdf8468bbf350428cc985223": {
          "model_module": "@jupyter-widgets/controls",
          "model_name": "HTMLModel",
          "model_module_version": "1.5.0",
          "state": {
            "_dom_classes": [],
            "_model_module": "@jupyter-widgets/controls",
            "_model_module_version": "1.5.0",
            "_model_name": "HTMLModel",
            "_view_count": null,
            "_view_module": "@jupyter-widgets/controls",
            "_view_module_version": "1.5.0",
            "_view_name": "HTMLView",
            "description": "",
            "description_tooltip": null,
            "layout": "IPY_MODEL_778db3af3ee74a6b90857e05b2ae7f59",
            "placeholder": "​",
            "style": "IPY_MODEL_c0da97f4c2814fd88a6937a633fcbdab",
            "value": " 15000/15000 [01:03&lt;00:00, 311.91it/s]"
          }
        },
        "26068f93e6ca44a9b18bf915d3687adb": {
          "model_module": "@jupyter-widgets/base",
          "model_name": "LayoutModel",
          "model_module_version": "1.2.0",
          "state": {
            "_model_module": "@jupyter-widgets/base",
            "_model_module_version": "1.2.0",
            "_model_name": "LayoutModel",
            "_view_count": null,
            "_view_module": "@jupyter-widgets/base",
            "_view_module_version": "1.2.0",
            "_view_name": "LayoutView",
            "align_content": null,
            "align_items": null,
            "align_self": null,
            "border": null,
            "bottom": null,
            "display": null,
            "flex": null,
            "flex_flow": null,
            "grid_area": null,
            "grid_auto_columns": null,
            "grid_auto_flow": null,
            "grid_auto_rows": null,
            "grid_column": null,
            "grid_gap": null,
            "grid_row": null,
            "grid_template_areas": null,
            "grid_template_columns": null,
            "grid_template_rows": null,
            "height": null,
            "justify_content": null,
            "justify_items": null,
            "left": null,
            "margin": null,
            "max_height": null,
            "max_width": null,
            "min_height": null,
            "min_width": null,
            "object_fit": null,
            "object_position": null,
            "order": null,
            "overflow": null,
            "overflow_x": null,
            "overflow_y": null,
            "padding": null,
            "right": null,
            "top": null,
            "visibility": null,
            "width": null
          }
        },
        "e5b532e05e8a482d8571f44d78a46127": {
          "model_module": "@jupyter-widgets/base",
          "model_name": "LayoutModel",
          "model_module_version": "1.2.0",
          "state": {
            "_model_module": "@jupyter-widgets/base",
            "_model_module_version": "1.2.0",
            "_model_name": "LayoutModel",
            "_view_count": null,
            "_view_module": "@jupyter-widgets/base",
            "_view_module_version": "1.2.0",
            "_view_name": "LayoutView",
            "align_content": null,
            "align_items": null,
            "align_self": null,
            "border": null,
            "bottom": null,
            "display": null,
            "flex": null,
            "flex_flow": null,
            "grid_area": null,
            "grid_auto_columns": null,
            "grid_auto_flow": null,
            "grid_auto_rows": null,
            "grid_column": null,
            "grid_gap": null,
            "grid_row": null,
            "grid_template_areas": null,
            "grid_template_columns": null,
            "grid_template_rows": null,
            "height": null,
            "justify_content": null,
            "justify_items": null,
            "left": null,
            "margin": null,
            "max_height": null,
            "max_width": null,
            "min_height": null,
            "min_width": null,
            "object_fit": null,
            "object_position": null,
            "order": null,
            "overflow": null,
            "overflow_x": null,
            "overflow_y": null,
            "padding": null,
            "right": null,
            "top": null,
            "visibility": null,
            "width": null
          }
        },
        "708e40028b624ca98e50f3768c2f0548": {
          "model_module": "@jupyter-widgets/controls",
          "model_name": "DescriptionStyleModel",
          "model_module_version": "1.5.0",
          "state": {
            "_model_module": "@jupyter-widgets/controls",
            "_model_module_version": "1.5.0",
            "_model_name": "DescriptionStyleModel",
            "_view_count": null,
            "_view_module": "@jupyter-widgets/base",
            "_view_module_version": "1.2.0",
            "_view_name": "StyleView",
            "description_width": ""
          }
        },
        "53d2930833974a6ba0db0ee5ef7faf2a": {
          "model_module": "@jupyter-widgets/base",
          "model_name": "LayoutModel",
          "model_module_version": "1.2.0",
          "state": {
            "_model_module": "@jupyter-widgets/base",
            "_model_module_version": "1.2.0",
            "_model_name": "LayoutModel",
            "_view_count": null,
            "_view_module": "@jupyter-widgets/base",
            "_view_module_version": "1.2.0",
            "_view_name": "LayoutView",
            "align_content": null,
            "align_items": null,
            "align_self": null,
            "border": null,
            "bottom": null,
            "display": null,
            "flex": null,
            "flex_flow": null,
            "grid_area": null,
            "grid_auto_columns": null,
            "grid_auto_flow": null,
            "grid_auto_rows": null,
            "grid_column": null,
            "grid_gap": null,
            "grid_row": null,
            "grid_template_areas": null,
            "grid_template_columns": null,
            "grid_template_rows": null,
            "height": null,
            "justify_content": null,
            "justify_items": null,
            "left": null,
            "margin": null,
            "max_height": null,
            "max_width": null,
            "min_height": null,
            "min_width": null,
            "object_fit": null,
            "object_position": null,
            "order": null,
            "overflow": null,
            "overflow_x": null,
            "overflow_y": null,
            "padding": null,
            "right": null,
            "top": null,
            "visibility": null,
            "width": null
          }
        },
        "288aa0b17476422794f6fa4308290863": {
          "model_module": "@jupyter-widgets/controls",
          "model_name": "ProgressStyleModel",
          "model_module_version": "1.5.0",
          "state": {
            "_model_module": "@jupyter-widgets/controls",
            "_model_module_version": "1.5.0",
            "_model_name": "ProgressStyleModel",
            "_view_count": null,
            "_view_module": "@jupyter-widgets/base",
            "_view_module_version": "1.2.0",
            "_view_name": "StyleView",
            "bar_color": null,
            "description_width": ""
          }
        },
        "778db3af3ee74a6b90857e05b2ae7f59": {
          "model_module": "@jupyter-widgets/base",
          "model_name": "LayoutModel",
          "model_module_version": "1.2.0",
          "state": {
            "_model_module": "@jupyter-widgets/base",
            "_model_module_version": "1.2.0",
            "_model_name": "LayoutModel",
            "_view_count": null,
            "_view_module": "@jupyter-widgets/base",
            "_view_module_version": "1.2.0",
            "_view_name": "LayoutView",
            "align_content": null,
            "align_items": null,
            "align_self": null,
            "border": null,
            "bottom": null,
            "display": null,
            "flex": null,
            "flex_flow": null,
            "grid_area": null,
            "grid_auto_columns": null,
            "grid_auto_flow": null,
            "grid_auto_rows": null,
            "grid_column": null,
            "grid_gap": null,
            "grid_row": null,
            "grid_template_areas": null,
            "grid_template_columns": null,
            "grid_template_rows": null,
            "height": null,
            "justify_content": null,
            "justify_items": null,
            "left": null,
            "margin": null,
            "max_height": null,
            "max_width": null,
            "min_height": null,
            "min_width": null,
            "object_fit": null,
            "object_position": null,
            "order": null,
            "overflow": null,
            "overflow_x": null,
            "overflow_y": null,
            "padding": null,
            "right": null,
            "top": null,
            "visibility": null,
            "width": null
          }
        },
        "c0da97f4c2814fd88a6937a633fcbdab": {
          "model_module": "@jupyter-widgets/controls",
          "model_name": "DescriptionStyleModel",
          "model_module_version": "1.5.0",
          "state": {
            "_model_module": "@jupyter-widgets/controls",
            "_model_module_version": "1.5.0",
            "_model_name": "DescriptionStyleModel",
            "_view_count": null,
            "_view_module": "@jupyter-widgets/base",
            "_view_module_version": "1.2.0",
            "_view_name": "StyleView",
            "description_width": ""
          }
        },
        "4c645a1ac24c423a9acb75fe885fca97": {
          "model_module": "@jupyter-widgets/controls",
          "model_name": "HBoxModel",
          "model_module_version": "1.5.0",
          "state": {
            "_dom_classes": [],
            "_model_module": "@jupyter-widgets/controls",
            "_model_module_version": "1.5.0",
            "_model_name": "HBoxModel",
            "_view_count": null,
            "_view_module": "@jupyter-widgets/controls",
            "_view_module_version": "1.5.0",
            "_view_name": "HBoxView",
            "box_style": "",
            "children": [
              "IPY_MODEL_6728733b3b3242ed966a1e55da2946ff",
              "IPY_MODEL_38a1810195b94876b679e2749f504a17",
              "IPY_MODEL_d9d1e6cb134c4bd9925cdbf59f52ed8f"
            ],
            "layout": "IPY_MODEL_d5679f376d5145f2bba62486226f80ac"
          }
        },
        "6728733b3b3242ed966a1e55da2946ff": {
          "model_module": "@jupyter-widgets/controls",
          "model_name": "HTMLModel",
          "model_module_version": "1.5.0",
          "state": {
            "_dom_classes": [],
            "_model_module": "@jupyter-widgets/controls",
            "_model_module_version": "1.5.0",
            "_model_name": "HTMLModel",
            "_view_count": null,
            "_view_module": "@jupyter-widgets/controls",
            "_view_module_version": "1.5.0",
            "_view_name": "HTMLView",
            "description": "",
            "description_tooltip": null,
            "layout": "IPY_MODEL_348c6c65dee24b4f988b26732cadb5cb",
            "placeholder": "​",
            "style": "IPY_MODEL_098e1d93e59d45acb9dfd6a338b3e568",
            "value": "100%"
          }
        },
        "38a1810195b94876b679e2749f504a17": {
          "model_module": "@jupyter-widgets/controls",
          "model_name": "FloatProgressModel",
          "model_module_version": "1.5.0",
          "state": {
            "_dom_classes": [],
            "_model_module": "@jupyter-widgets/controls",
            "_model_module_version": "1.5.0",
            "_model_name": "FloatProgressModel",
            "_view_count": null,
            "_view_module": "@jupyter-widgets/controls",
            "_view_module_version": "1.5.0",
            "_view_name": "ProgressView",
            "bar_style": "success",
            "description": "",
            "description_tooltip": null,
            "layout": "IPY_MODEL_d05af14b95334ec2a87a81e900f6c92b",
            "max": 2500,
            "min": 0,
            "orientation": "horizontal",
            "style": "IPY_MODEL_b74b4de46bf5494890fa005b386c2e59",
            "value": 2500
          }
        },
        "d9d1e6cb134c4bd9925cdbf59f52ed8f": {
          "model_module": "@jupyter-widgets/controls",
          "model_name": "HTMLModel",
          "model_module_version": "1.5.0",
          "state": {
            "_dom_classes": [],
            "_model_module": "@jupyter-widgets/controls",
            "_model_module_version": "1.5.0",
            "_model_name": "HTMLModel",
            "_view_count": null,
            "_view_module": "@jupyter-widgets/controls",
            "_view_module_version": "1.5.0",
            "_view_name": "HTMLView",
            "description": "",
            "description_tooltip": null,
            "layout": "IPY_MODEL_753b3b8c194f4ad0ad34e2b0a79a20e7",
            "placeholder": "​",
            "style": "IPY_MODEL_4ffdb937d0c34c94b35b6d614485eb71",
            "value": " 2500/2500 [00:07&lt;00:00, 356.19it/s]"
          }
        },
        "d5679f376d5145f2bba62486226f80ac": {
          "model_module": "@jupyter-widgets/base",
          "model_name": "LayoutModel",
          "model_module_version": "1.2.0",
          "state": {
            "_model_module": "@jupyter-widgets/base",
            "_model_module_version": "1.2.0",
            "_model_name": "LayoutModel",
            "_view_count": null,
            "_view_module": "@jupyter-widgets/base",
            "_view_module_version": "1.2.0",
            "_view_name": "LayoutView",
            "align_content": null,
            "align_items": null,
            "align_self": null,
            "border": null,
            "bottom": null,
            "display": null,
            "flex": null,
            "flex_flow": null,
            "grid_area": null,
            "grid_auto_columns": null,
            "grid_auto_flow": null,
            "grid_auto_rows": null,
            "grid_column": null,
            "grid_gap": null,
            "grid_row": null,
            "grid_template_areas": null,
            "grid_template_columns": null,
            "grid_template_rows": null,
            "height": null,
            "justify_content": null,
            "justify_items": null,
            "left": null,
            "margin": null,
            "max_height": null,
            "max_width": null,
            "min_height": null,
            "min_width": null,
            "object_fit": null,
            "object_position": null,
            "order": null,
            "overflow": null,
            "overflow_x": null,
            "overflow_y": null,
            "padding": null,
            "right": null,
            "top": null,
            "visibility": null,
            "width": null
          }
        },
        "348c6c65dee24b4f988b26732cadb5cb": {
          "model_module": "@jupyter-widgets/base",
          "model_name": "LayoutModel",
          "model_module_version": "1.2.0",
          "state": {
            "_model_module": "@jupyter-widgets/base",
            "_model_module_version": "1.2.0",
            "_model_name": "LayoutModel",
            "_view_count": null,
            "_view_module": "@jupyter-widgets/base",
            "_view_module_version": "1.2.0",
            "_view_name": "LayoutView",
            "align_content": null,
            "align_items": null,
            "align_self": null,
            "border": null,
            "bottom": null,
            "display": null,
            "flex": null,
            "flex_flow": null,
            "grid_area": null,
            "grid_auto_columns": null,
            "grid_auto_flow": null,
            "grid_auto_rows": null,
            "grid_column": null,
            "grid_gap": null,
            "grid_row": null,
            "grid_template_areas": null,
            "grid_template_columns": null,
            "grid_template_rows": null,
            "height": null,
            "justify_content": null,
            "justify_items": null,
            "left": null,
            "margin": null,
            "max_height": null,
            "max_width": null,
            "min_height": null,
            "min_width": null,
            "object_fit": null,
            "object_position": null,
            "order": null,
            "overflow": null,
            "overflow_x": null,
            "overflow_y": null,
            "padding": null,
            "right": null,
            "top": null,
            "visibility": null,
            "width": null
          }
        },
        "098e1d93e59d45acb9dfd6a338b3e568": {
          "model_module": "@jupyter-widgets/controls",
          "model_name": "DescriptionStyleModel",
          "model_module_version": "1.5.0",
          "state": {
            "_model_module": "@jupyter-widgets/controls",
            "_model_module_version": "1.5.0",
            "_model_name": "DescriptionStyleModel",
            "_view_count": null,
            "_view_module": "@jupyter-widgets/base",
            "_view_module_version": "1.2.0",
            "_view_name": "StyleView",
            "description_width": ""
          }
        },
        "d05af14b95334ec2a87a81e900f6c92b": {
          "model_module": "@jupyter-widgets/base",
          "model_name": "LayoutModel",
          "model_module_version": "1.2.0",
          "state": {
            "_model_module": "@jupyter-widgets/base",
            "_model_module_version": "1.2.0",
            "_model_name": "LayoutModel",
            "_view_count": null,
            "_view_module": "@jupyter-widgets/base",
            "_view_module_version": "1.2.0",
            "_view_name": "LayoutView",
            "align_content": null,
            "align_items": null,
            "align_self": null,
            "border": null,
            "bottom": null,
            "display": null,
            "flex": null,
            "flex_flow": null,
            "grid_area": null,
            "grid_auto_columns": null,
            "grid_auto_flow": null,
            "grid_auto_rows": null,
            "grid_column": null,
            "grid_gap": null,
            "grid_row": null,
            "grid_template_areas": null,
            "grid_template_columns": null,
            "grid_template_rows": null,
            "height": null,
            "justify_content": null,
            "justify_items": null,
            "left": null,
            "margin": null,
            "max_height": null,
            "max_width": null,
            "min_height": null,
            "min_width": null,
            "object_fit": null,
            "object_position": null,
            "order": null,
            "overflow": null,
            "overflow_x": null,
            "overflow_y": null,
            "padding": null,
            "right": null,
            "top": null,
            "visibility": null,
            "width": null
          }
        },
        "b74b4de46bf5494890fa005b386c2e59": {
          "model_module": "@jupyter-widgets/controls",
          "model_name": "ProgressStyleModel",
          "model_module_version": "1.5.0",
          "state": {
            "_model_module": "@jupyter-widgets/controls",
            "_model_module_version": "1.5.0",
            "_model_name": "ProgressStyleModel",
            "_view_count": null,
            "_view_module": "@jupyter-widgets/base",
            "_view_module_version": "1.2.0",
            "_view_name": "StyleView",
            "bar_color": null,
            "description_width": ""
          }
        },
        "753b3b8c194f4ad0ad34e2b0a79a20e7": {
          "model_module": "@jupyter-widgets/base",
          "model_name": "LayoutModel",
          "model_module_version": "1.2.0",
          "state": {
            "_model_module": "@jupyter-widgets/base",
            "_model_module_version": "1.2.0",
            "_model_name": "LayoutModel",
            "_view_count": null,
            "_view_module": "@jupyter-widgets/base",
            "_view_module_version": "1.2.0",
            "_view_name": "LayoutView",
            "align_content": null,
            "align_items": null,
            "align_self": null,
            "border": null,
            "bottom": null,
            "display": null,
            "flex": null,
            "flex_flow": null,
            "grid_area": null,
            "grid_auto_columns": null,
            "grid_auto_flow": null,
            "grid_auto_rows": null,
            "grid_column": null,
            "grid_gap": null,
            "grid_row": null,
            "grid_template_areas": null,
            "grid_template_columns": null,
            "grid_template_rows": null,
            "height": null,
            "justify_content": null,
            "justify_items": null,
            "left": null,
            "margin": null,
            "max_height": null,
            "max_width": null,
            "min_height": null,
            "min_width": null,
            "object_fit": null,
            "object_position": null,
            "order": null,
            "overflow": null,
            "overflow_x": null,
            "overflow_y": null,
            "padding": null,
            "right": null,
            "top": null,
            "visibility": null,
            "width": null
          }
        },
        "4ffdb937d0c34c94b35b6d614485eb71": {
          "model_module": "@jupyter-widgets/controls",
          "model_name": "DescriptionStyleModel",
          "model_module_version": "1.5.0",
          "state": {
            "_model_module": "@jupyter-widgets/controls",
            "_model_module_version": "1.5.0",
            "_model_name": "DescriptionStyleModel",
            "_view_count": null,
            "_view_module": "@jupyter-widgets/base",
            "_view_module_version": "1.2.0",
            "_view_name": "StyleView",
            "description_width": ""
          }
        },
        "fbe3aae0496440e1b1e252937fb9afd5": {
          "model_module": "@jupyter-widgets/controls",
          "model_name": "HBoxModel",
          "model_module_version": "1.5.0",
          "state": {
            "_dom_classes": [],
            "_model_module": "@jupyter-widgets/controls",
            "_model_module_version": "1.5.0",
            "_model_name": "HBoxModel",
            "_view_count": null,
            "_view_module": "@jupyter-widgets/controls",
            "_view_module_version": "1.5.0",
            "_view_name": "HBoxView",
            "box_style": "",
            "children": [
              "IPY_MODEL_c90cb47370c64ea88f8cccfeb2c78b53",
              "IPY_MODEL_a5023c3d0e454a8bba6bcd41b09254fc",
              "IPY_MODEL_ac36a61386794d389d4b2315cb12521f"
            ],
            "layout": "IPY_MODEL_3e03f33964434c5b88719d4446fff4a4"
          }
        },
        "c90cb47370c64ea88f8cccfeb2c78b53": {
          "model_module": "@jupyter-widgets/controls",
          "model_name": "HTMLModel",
          "model_module_version": "1.5.0",
          "state": {
            "_dom_classes": [],
            "_model_module": "@jupyter-widgets/controls",
            "_model_module_version": "1.5.0",
            "_model_name": "HTMLModel",
            "_view_count": null,
            "_view_module": "@jupyter-widgets/controls",
            "_view_module_version": "1.5.0",
            "_view_name": "HTMLView",
            "description": "",
            "description_tooltip": null,
            "layout": "IPY_MODEL_9d02b9c16d27406d9a315a02afc7baca",
            "placeholder": "​",
            "style": "IPY_MODEL_940cb53288fc4b62884b16769bf8c25c",
            "value": "100%"
          }
        },
        "a5023c3d0e454a8bba6bcd41b09254fc": {
          "model_module": "@jupyter-widgets/controls",
          "model_name": "FloatProgressModel",
          "model_module_version": "1.5.0",
          "state": {
            "_dom_classes": [],
            "_model_module": "@jupyter-widgets/controls",
            "_model_module_version": "1.5.0",
            "_model_name": "FloatProgressModel",
            "_view_count": null,
            "_view_module": "@jupyter-widgets/controls",
            "_view_module_version": "1.5.0",
            "_view_name": "ProgressView",
            "bar_style": "success",
            "description": "",
            "description_tooltip": null,
            "layout": "IPY_MODEL_2459a6d64ca146598bfd18e9fe20ad81",
            "max": 15000,
            "min": 0,
            "orientation": "horizontal",
            "style": "IPY_MODEL_4885fdbc9f174b209b64c9d723c70090",
            "value": 15000
          }
        },
        "ac36a61386794d389d4b2315cb12521f": {
          "model_module": "@jupyter-widgets/controls",
          "model_name": "HTMLModel",
          "model_module_version": "1.5.0",
          "state": {
            "_dom_classes": [],
            "_model_module": "@jupyter-widgets/controls",
            "_model_module_version": "1.5.0",
            "_model_name": "HTMLModel",
            "_view_count": null,
            "_view_module": "@jupyter-widgets/controls",
            "_view_module_version": "1.5.0",
            "_view_name": "HTMLView",
            "description": "",
            "description_tooltip": null,
            "layout": "IPY_MODEL_ac846fd6b04b42b4ba4761647ca61bd9",
            "placeholder": "​",
            "style": "IPY_MODEL_1660f440cd2b42dc93918ae5436f24eb",
            "value": " 15000/15000 [00:51&lt;00:00, 84.73it/s]"
          }
        },
        "3e03f33964434c5b88719d4446fff4a4": {
          "model_module": "@jupyter-widgets/base",
          "model_name": "LayoutModel",
          "model_module_version": "1.2.0",
          "state": {
            "_model_module": "@jupyter-widgets/base",
            "_model_module_version": "1.2.0",
            "_model_name": "LayoutModel",
            "_view_count": null,
            "_view_module": "@jupyter-widgets/base",
            "_view_module_version": "1.2.0",
            "_view_name": "LayoutView",
            "align_content": null,
            "align_items": null,
            "align_self": null,
            "border": null,
            "bottom": null,
            "display": null,
            "flex": null,
            "flex_flow": null,
            "grid_area": null,
            "grid_auto_columns": null,
            "grid_auto_flow": null,
            "grid_auto_rows": null,
            "grid_column": null,
            "grid_gap": null,
            "grid_row": null,
            "grid_template_areas": null,
            "grid_template_columns": null,
            "grid_template_rows": null,
            "height": null,
            "justify_content": null,
            "justify_items": null,
            "left": null,
            "margin": null,
            "max_height": null,
            "max_width": null,
            "min_height": null,
            "min_width": null,
            "object_fit": null,
            "object_position": null,
            "order": null,
            "overflow": null,
            "overflow_x": null,
            "overflow_y": null,
            "padding": null,
            "right": null,
            "top": null,
            "visibility": null,
            "width": null
          }
        },
        "9d02b9c16d27406d9a315a02afc7baca": {
          "model_module": "@jupyter-widgets/base",
          "model_name": "LayoutModel",
          "model_module_version": "1.2.0",
          "state": {
            "_model_module": "@jupyter-widgets/base",
            "_model_module_version": "1.2.0",
            "_model_name": "LayoutModel",
            "_view_count": null,
            "_view_module": "@jupyter-widgets/base",
            "_view_module_version": "1.2.0",
            "_view_name": "LayoutView",
            "align_content": null,
            "align_items": null,
            "align_self": null,
            "border": null,
            "bottom": null,
            "display": null,
            "flex": null,
            "flex_flow": null,
            "grid_area": null,
            "grid_auto_columns": null,
            "grid_auto_flow": null,
            "grid_auto_rows": null,
            "grid_column": null,
            "grid_gap": null,
            "grid_row": null,
            "grid_template_areas": null,
            "grid_template_columns": null,
            "grid_template_rows": null,
            "height": null,
            "justify_content": null,
            "justify_items": null,
            "left": null,
            "margin": null,
            "max_height": null,
            "max_width": null,
            "min_height": null,
            "min_width": null,
            "object_fit": null,
            "object_position": null,
            "order": null,
            "overflow": null,
            "overflow_x": null,
            "overflow_y": null,
            "padding": null,
            "right": null,
            "top": null,
            "visibility": null,
            "width": null
          }
        },
        "940cb53288fc4b62884b16769bf8c25c": {
          "model_module": "@jupyter-widgets/controls",
          "model_name": "DescriptionStyleModel",
          "model_module_version": "1.5.0",
          "state": {
            "_model_module": "@jupyter-widgets/controls",
            "_model_module_version": "1.5.0",
            "_model_name": "DescriptionStyleModel",
            "_view_count": null,
            "_view_module": "@jupyter-widgets/base",
            "_view_module_version": "1.2.0",
            "_view_name": "StyleView",
            "description_width": ""
          }
        },
        "2459a6d64ca146598bfd18e9fe20ad81": {
          "model_module": "@jupyter-widgets/base",
          "model_name": "LayoutModel",
          "model_module_version": "1.2.0",
          "state": {
            "_model_module": "@jupyter-widgets/base",
            "_model_module_version": "1.2.0",
            "_model_name": "LayoutModel",
            "_view_count": null,
            "_view_module": "@jupyter-widgets/base",
            "_view_module_version": "1.2.0",
            "_view_name": "LayoutView",
            "align_content": null,
            "align_items": null,
            "align_self": null,
            "border": null,
            "bottom": null,
            "display": null,
            "flex": null,
            "flex_flow": null,
            "grid_area": null,
            "grid_auto_columns": null,
            "grid_auto_flow": null,
            "grid_auto_rows": null,
            "grid_column": null,
            "grid_gap": null,
            "grid_row": null,
            "grid_template_areas": null,
            "grid_template_columns": null,
            "grid_template_rows": null,
            "height": null,
            "justify_content": null,
            "justify_items": null,
            "left": null,
            "margin": null,
            "max_height": null,
            "max_width": null,
            "min_height": null,
            "min_width": null,
            "object_fit": null,
            "object_position": null,
            "order": null,
            "overflow": null,
            "overflow_x": null,
            "overflow_y": null,
            "padding": null,
            "right": null,
            "top": null,
            "visibility": null,
            "width": null
          }
        },
        "4885fdbc9f174b209b64c9d723c70090": {
          "model_module": "@jupyter-widgets/controls",
          "model_name": "ProgressStyleModel",
          "model_module_version": "1.5.0",
          "state": {
            "_model_module": "@jupyter-widgets/controls",
            "_model_module_version": "1.5.0",
            "_model_name": "ProgressStyleModel",
            "_view_count": null,
            "_view_module": "@jupyter-widgets/base",
            "_view_module_version": "1.2.0",
            "_view_name": "StyleView",
            "bar_color": null,
            "description_width": ""
          }
        },
        "ac846fd6b04b42b4ba4761647ca61bd9": {
          "model_module": "@jupyter-widgets/base",
          "model_name": "LayoutModel",
          "model_module_version": "1.2.0",
          "state": {
            "_model_module": "@jupyter-widgets/base",
            "_model_module_version": "1.2.0",
            "_model_name": "LayoutModel",
            "_view_count": null,
            "_view_module": "@jupyter-widgets/base",
            "_view_module_version": "1.2.0",
            "_view_name": "LayoutView",
            "align_content": null,
            "align_items": null,
            "align_self": null,
            "border": null,
            "bottom": null,
            "display": null,
            "flex": null,
            "flex_flow": null,
            "grid_area": null,
            "grid_auto_columns": null,
            "grid_auto_flow": null,
            "grid_auto_rows": null,
            "grid_column": null,
            "grid_gap": null,
            "grid_row": null,
            "grid_template_areas": null,
            "grid_template_columns": null,
            "grid_template_rows": null,
            "height": null,
            "justify_content": null,
            "justify_items": null,
            "left": null,
            "margin": null,
            "max_height": null,
            "max_width": null,
            "min_height": null,
            "min_width": null,
            "object_fit": null,
            "object_position": null,
            "order": null,
            "overflow": null,
            "overflow_x": null,
            "overflow_y": null,
            "padding": null,
            "right": null,
            "top": null,
            "visibility": null,
            "width": null
          }
        },
        "1660f440cd2b42dc93918ae5436f24eb": {
          "model_module": "@jupyter-widgets/controls",
          "model_name": "DescriptionStyleModel",
          "model_module_version": "1.5.0",
          "state": {
            "_model_module": "@jupyter-widgets/controls",
            "_model_module_version": "1.5.0",
            "_model_name": "DescriptionStyleModel",
            "_view_count": null,
            "_view_module": "@jupyter-widgets/base",
            "_view_module_version": "1.2.0",
            "_view_name": "StyleView",
            "description_width": ""
          }
        },
        "70785cb534c540388770a4500966ec8a": {
          "model_module": "@jupyter-widgets/controls",
          "model_name": "HBoxModel",
          "model_module_version": "1.5.0",
          "state": {
            "_dom_classes": [],
            "_model_module": "@jupyter-widgets/controls",
            "_model_module_version": "1.5.0",
            "_model_name": "HBoxModel",
            "_view_count": null,
            "_view_module": "@jupyter-widgets/controls",
            "_view_module_version": "1.5.0",
            "_view_name": "HBoxView",
            "box_style": "",
            "children": [
              "IPY_MODEL_489eb4cd16f64ccf83aeed27e7d9a26d",
              "IPY_MODEL_27a7ae455bf244ceb6c3f9e2bc6f662a",
              "IPY_MODEL_d0fadac5875d4097aeb0ffb6805515c2"
            ],
            "layout": "IPY_MODEL_32433ad1f9e84d0f93d7fb21305e1637"
          }
        },
        "489eb4cd16f64ccf83aeed27e7d9a26d": {
          "model_module": "@jupyter-widgets/controls",
          "model_name": "HTMLModel",
          "model_module_version": "1.5.0",
          "state": {
            "_dom_classes": [],
            "_model_module": "@jupyter-widgets/controls",
            "_model_module_version": "1.5.0",
            "_model_name": "HTMLModel",
            "_view_count": null,
            "_view_module": "@jupyter-widgets/controls",
            "_view_module_version": "1.5.0",
            "_view_name": "HTMLView",
            "description": "",
            "description_tooltip": null,
            "layout": "IPY_MODEL_839ef7a5beb34b908752012a40d4ba50",
            "placeholder": "​",
            "style": "IPY_MODEL_6662bac7083242578f31f0514d3d57cb",
            "value": "100%"
          }
        },
        "27a7ae455bf244ceb6c3f9e2bc6f662a": {
          "model_module": "@jupyter-widgets/controls",
          "model_name": "FloatProgressModel",
          "model_module_version": "1.5.0",
          "state": {
            "_dom_classes": [],
            "_model_module": "@jupyter-widgets/controls",
            "_model_module_version": "1.5.0",
            "_model_name": "FloatProgressModel",
            "_view_count": null,
            "_view_module": "@jupyter-widgets/controls",
            "_view_module_version": "1.5.0",
            "_view_name": "ProgressView",
            "bar_style": "success",
            "description": "",
            "description_tooltip": null,
            "layout": "IPY_MODEL_8a4e9228d49b4554a0e2272e100e7658",
            "max": 15000,
            "min": 0,
            "orientation": "horizontal",
            "style": "IPY_MODEL_719dcdd6de414d438a5979c21977215c",
            "value": 15000
          }
        },
        "d0fadac5875d4097aeb0ffb6805515c2": {
          "model_module": "@jupyter-widgets/controls",
          "model_name": "HTMLModel",
          "model_module_version": "1.5.0",
          "state": {
            "_dom_classes": [],
            "_model_module": "@jupyter-widgets/controls",
            "_model_module_version": "1.5.0",
            "_model_name": "HTMLModel",
            "_view_count": null,
            "_view_module": "@jupyter-widgets/controls",
            "_view_module_version": "1.5.0",
            "_view_name": "HTMLView",
            "description": "",
            "description_tooltip": null,
            "layout": "IPY_MODEL_350e96060e4545c6a3128b7aa238fa2e",
            "placeholder": "​",
            "style": "IPY_MODEL_4a231159b33a4219a7e59cd45543ea91",
            "value": " 15000/15000 [00:52&lt;00:00, 328.23it/s]"
          }
        },
        "32433ad1f9e84d0f93d7fb21305e1637": {
          "model_module": "@jupyter-widgets/base",
          "model_name": "LayoutModel",
          "model_module_version": "1.2.0",
          "state": {
            "_model_module": "@jupyter-widgets/base",
            "_model_module_version": "1.2.0",
            "_model_name": "LayoutModel",
            "_view_count": null,
            "_view_module": "@jupyter-widgets/base",
            "_view_module_version": "1.2.0",
            "_view_name": "LayoutView",
            "align_content": null,
            "align_items": null,
            "align_self": null,
            "border": null,
            "bottom": null,
            "display": null,
            "flex": null,
            "flex_flow": null,
            "grid_area": null,
            "grid_auto_columns": null,
            "grid_auto_flow": null,
            "grid_auto_rows": null,
            "grid_column": null,
            "grid_gap": null,
            "grid_row": null,
            "grid_template_areas": null,
            "grid_template_columns": null,
            "grid_template_rows": null,
            "height": null,
            "justify_content": null,
            "justify_items": null,
            "left": null,
            "margin": null,
            "max_height": null,
            "max_width": null,
            "min_height": null,
            "min_width": null,
            "object_fit": null,
            "object_position": null,
            "order": null,
            "overflow": null,
            "overflow_x": null,
            "overflow_y": null,
            "padding": null,
            "right": null,
            "top": null,
            "visibility": null,
            "width": null
          }
        },
        "839ef7a5beb34b908752012a40d4ba50": {
          "model_module": "@jupyter-widgets/base",
          "model_name": "LayoutModel",
          "model_module_version": "1.2.0",
          "state": {
            "_model_module": "@jupyter-widgets/base",
            "_model_module_version": "1.2.0",
            "_model_name": "LayoutModel",
            "_view_count": null,
            "_view_module": "@jupyter-widgets/base",
            "_view_module_version": "1.2.0",
            "_view_name": "LayoutView",
            "align_content": null,
            "align_items": null,
            "align_self": null,
            "border": null,
            "bottom": null,
            "display": null,
            "flex": null,
            "flex_flow": null,
            "grid_area": null,
            "grid_auto_columns": null,
            "grid_auto_flow": null,
            "grid_auto_rows": null,
            "grid_column": null,
            "grid_gap": null,
            "grid_row": null,
            "grid_template_areas": null,
            "grid_template_columns": null,
            "grid_template_rows": null,
            "height": null,
            "justify_content": null,
            "justify_items": null,
            "left": null,
            "margin": null,
            "max_height": null,
            "max_width": null,
            "min_height": null,
            "min_width": null,
            "object_fit": null,
            "object_position": null,
            "order": null,
            "overflow": null,
            "overflow_x": null,
            "overflow_y": null,
            "padding": null,
            "right": null,
            "top": null,
            "visibility": null,
            "width": null
          }
        },
        "6662bac7083242578f31f0514d3d57cb": {
          "model_module": "@jupyter-widgets/controls",
          "model_name": "DescriptionStyleModel",
          "model_module_version": "1.5.0",
          "state": {
            "_model_module": "@jupyter-widgets/controls",
            "_model_module_version": "1.5.0",
            "_model_name": "DescriptionStyleModel",
            "_view_count": null,
            "_view_module": "@jupyter-widgets/base",
            "_view_module_version": "1.2.0",
            "_view_name": "StyleView",
            "description_width": ""
          }
        },
        "8a4e9228d49b4554a0e2272e100e7658": {
          "model_module": "@jupyter-widgets/base",
          "model_name": "LayoutModel",
          "model_module_version": "1.2.0",
          "state": {
            "_model_module": "@jupyter-widgets/base",
            "_model_module_version": "1.2.0",
            "_model_name": "LayoutModel",
            "_view_count": null,
            "_view_module": "@jupyter-widgets/base",
            "_view_module_version": "1.2.0",
            "_view_name": "LayoutView",
            "align_content": null,
            "align_items": null,
            "align_self": null,
            "border": null,
            "bottom": null,
            "display": null,
            "flex": null,
            "flex_flow": null,
            "grid_area": null,
            "grid_auto_columns": null,
            "grid_auto_flow": null,
            "grid_auto_rows": null,
            "grid_column": null,
            "grid_gap": null,
            "grid_row": null,
            "grid_template_areas": null,
            "grid_template_columns": null,
            "grid_template_rows": null,
            "height": null,
            "justify_content": null,
            "justify_items": null,
            "left": null,
            "margin": null,
            "max_height": null,
            "max_width": null,
            "min_height": null,
            "min_width": null,
            "object_fit": null,
            "object_position": null,
            "order": null,
            "overflow": null,
            "overflow_x": null,
            "overflow_y": null,
            "padding": null,
            "right": null,
            "top": null,
            "visibility": null,
            "width": null
          }
        },
        "719dcdd6de414d438a5979c21977215c": {
          "model_module": "@jupyter-widgets/controls",
          "model_name": "ProgressStyleModel",
          "model_module_version": "1.5.0",
          "state": {
            "_model_module": "@jupyter-widgets/controls",
            "_model_module_version": "1.5.0",
            "_model_name": "ProgressStyleModel",
            "_view_count": null,
            "_view_module": "@jupyter-widgets/base",
            "_view_module_version": "1.2.0",
            "_view_name": "StyleView",
            "bar_color": null,
            "description_width": ""
          }
        },
        "350e96060e4545c6a3128b7aa238fa2e": {
          "model_module": "@jupyter-widgets/base",
          "model_name": "LayoutModel",
          "model_module_version": "1.2.0",
          "state": {
            "_model_module": "@jupyter-widgets/base",
            "_model_module_version": "1.2.0",
            "_model_name": "LayoutModel",
            "_view_count": null,
            "_view_module": "@jupyter-widgets/base",
            "_view_module_version": "1.2.0",
            "_view_name": "LayoutView",
            "align_content": null,
            "align_items": null,
            "align_self": null,
            "border": null,
            "bottom": null,
            "display": null,
            "flex": null,
            "flex_flow": null,
            "grid_area": null,
            "grid_auto_columns": null,
            "grid_auto_flow": null,
            "grid_auto_rows": null,
            "grid_column": null,
            "grid_gap": null,
            "grid_row": null,
            "grid_template_areas": null,
            "grid_template_columns": null,
            "grid_template_rows": null,
            "height": null,
            "justify_content": null,
            "justify_items": null,
            "left": null,
            "margin": null,
            "max_height": null,
            "max_width": null,
            "min_height": null,
            "min_width": null,
            "object_fit": null,
            "object_position": null,
            "order": null,
            "overflow": null,
            "overflow_x": null,
            "overflow_y": null,
            "padding": null,
            "right": null,
            "top": null,
            "visibility": null,
            "width": null
          }
        },
        "4a231159b33a4219a7e59cd45543ea91": {
          "model_module": "@jupyter-widgets/controls",
          "model_name": "DescriptionStyleModel",
          "model_module_version": "1.5.0",
          "state": {
            "_model_module": "@jupyter-widgets/controls",
            "_model_module_version": "1.5.0",
            "_model_name": "DescriptionStyleModel",
            "_view_count": null,
            "_view_module": "@jupyter-widgets/base",
            "_view_module_version": "1.2.0",
            "_view_name": "StyleView",
            "description_width": ""
          }
        },
        "c38dfd03a215407c8a07d7c3048ed90f": {
          "model_module": "@jupyter-widgets/controls",
          "model_name": "HBoxModel",
          "model_module_version": "1.5.0",
          "state": {
            "_dom_classes": [],
            "_model_module": "@jupyter-widgets/controls",
            "_model_module_version": "1.5.0",
            "_model_name": "HBoxModel",
            "_view_count": null,
            "_view_module": "@jupyter-widgets/controls",
            "_view_module_version": "1.5.0",
            "_view_name": "HBoxView",
            "box_style": "",
            "children": [
              "IPY_MODEL_01279b7b05c845ad8fe0b750883e5ae7",
              "IPY_MODEL_c123f931c51b442c9a695c2b5340c854",
              "IPY_MODEL_0be51d7983c8431dbb48d669502496e9"
            ],
            "layout": "IPY_MODEL_937366a76a174e1d8fb3e260b2264de2"
          }
        },
        "01279b7b05c845ad8fe0b750883e5ae7": {
          "model_module": "@jupyter-widgets/controls",
          "model_name": "HTMLModel",
          "model_module_version": "1.5.0",
          "state": {
            "_dom_classes": [],
            "_model_module": "@jupyter-widgets/controls",
            "_model_module_version": "1.5.0",
            "_model_name": "HTMLModel",
            "_view_count": null,
            "_view_module": "@jupyter-widgets/controls",
            "_view_module_version": "1.5.0",
            "_view_name": "HTMLView",
            "description": "",
            "description_tooltip": null,
            "layout": "IPY_MODEL_a64fcaf1efbf44868f39c901a9dae31a",
            "placeholder": "​",
            "style": "IPY_MODEL_4bea2bf556414d609412ba389a5705ef",
            "value": "100%"
          }
        },
        "c123f931c51b442c9a695c2b5340c854": {
          "model_module": "@jupyter-widgets/controls",
          "model_name": "FloatProgressModel",
          "model_module_version": "1.5.0",
          "state": {
            "_dom_classes": [],
            "_model_module": "@jupyter-widgets/controls",
            "_model_module_version": "1.5.0",
            "_model_name": "FloatProgressModel",
            "_view_count": null,
            "_view_module": "@jupyter-widgets/controls",
            "_view_module_version": "1.5.0",
            "_view_name": "ProgressView",
            "bar_style": "success",
            "description": "",
            "description_tooltip": null,
            "layout": "IPY_MODEL_7225322788b64bcf84b8d5b2b371885b",
            "max": 2500,
            "min": 0,
            "orientation": "horizontal",
            "style": "IPY_MODEL_427529f2bddd485a95a2fe3fe235c448",
            "value": 2500
          }
        },
        "0be51d7983c8431dbb48d669502496e9": {
          "model_module": "@jupyter-widgets/controls",
          "model_name": "HTMLModel",
          "model_module_version": "1.5.0",
          "state": {
            "_dom_classes": [],
            "_model_module": "@jupyter-widgets/controls",
            "_model_module_version": "1.5.0",
            "_model_name": "HTMLModel",
            "_view_count": null,
            "_view_module": "@jupyter-widgets/controls",
            "_view_module_version": "1.5.0",
            "_view_name": "HTMLView",
            "description": "",
            "description_tooltip": null,
            "layout": "IPY_MODEL_4b4eebb74a7848108762b619426db252",
            "placeholder": "​",
            "style": "IPY_MODEL_d8c52f4fa9f344648a0906b3d5825be9",
            "value": " 2500/2500 [00:07&lt;00:00, 268.00it/s]"
          }
        },
        "937366a76a174e1d8fb3e260b2264de2": {
          "model_module": "@jupyter-widgets/base",
          "model_name": "LayoutModel",
          "model_module_version": "1.2.0",
          "state": {
            "_model_module": "@jupyter-widgets/base",
            "_model_module_version": "1.2.0",
            "_model_name": "LayoutModel",
            "_view_count": null,
            "_view_module": "@jupyter-widgets/base",
            "_view_module_version": "1.2.0",
            "_view_name": "LayoutView",
            "align_content": null,
            "align_items": null,
            "align_self": null,
            "border": null,
            "bottom": null,
            "display": null,
            "flex": null,
            "flex_flow": null,
            "grid_area": null,
            "grid_auto_columns": null,
            "grid_auto_flow": null,
            "grid_auto_rows": null,
            "grid_column": null,
            "grid_gap": null,
            "grid_row": null,
            "grid_template_areas": null,
            "grid_template_columns": null,
            "grid_template_rows": null,
            "height": null,
            "justify_content": null,
            "justify_items": null,
            "left": null,
            "margin": null,
            "max_height": null,
            "max_width": null,
            "min_height": null,
            "min_width": null,
            "object_fit": null,
            "object_position": null,
            "order": null,
            "overflow": null,
            "overflow_x": null,
            "overflow_y": null,
            "padding": null,
            "right": null,
            "top": null,
            "visibility": null,
            "width": null
          }
        },
        "a64fcaf1efbf44868f39c901a9dae31a": {
          "model_module": "@jupyter-widgets/base",
          "model_name": "LayoutModel",
          "model_module_version": "1.2.0",
          "state": {
            "_model_module": "@jupyter-widgets/base",
            "_model_module_version": "1.2.0",
            "_model_name": "LayoutModel",
            "_view_count": null,
            "_view_module": "@jupyter-widgets/base",
            "_view_module_version": "1.2.0",
            "_view_name": "LayoutView",
            "align_content": null,
            "align_items": null,
            "align_self": null,
            "border": null,
            "bottom": null,
            "display": null,
            "flex": null,
            "flex_flow": null,
            "grid_area": null,
            "grid_auto_columns": null,
            "grid_auto_flow": null,
            "grid_auto_rows": null,
            "grid_column": null,
            "grid_gap": null,
            "grid_row": null,
            "grid_template_areas": null,
            "grid_template_columns": null,
            "grid_template_rows": null,
            "height": null,
            "justify_content": null,
            "justify_items": null,
            "left": null,
            "margin": null,
            "max_height": null,
            "max_width": null,
            "min_height": null,
            "min_width": null,
            "object_fit": null,
            "object_position": null,
            "order": null,
            "overflow": null,
            "overflow_x": null,
            "overflow_y": null,
            "padding": null,
            "right": null,
            "top": null,
            "visibility": null,
            "width": null
          }
        },
        "4bea2bf556414d609412ba389a5705ef": {
          "model_module": "@jupyter-widgets/controls",
          "model_name": "DescriptionStyleModel",
          "model_module_version": "1.5.0",
          "state": {
            "_model_module": "@jupyter-widgets/controls",
            "_model_module_version": "1.5.0",
            "_model_name": "DescriptionStyleModel",
            "_view_count": null,
            "_view_module": "@jupyter-widgets/base",
            "_view_module_version": "1.2.0",
            "_view_name": "StyleView",
            "description_width": ""
          }
        },
        "7225322788b64bcf84b8d5b2b371885b": {
          "model_module": "@jupyter-widgets/base",
          "model_name": "LayoutModel",
          "model_module_version": "1.2.0",
          "state": {
            "_model_module": "@jupyter-widgets/base",
            "_model_module_version": "1.2.0",
            "_model_name": "LayoutModel",
            "_view_count": null,
            "_view_module": "@jupyter-widgets/base",
            "_view_module_version": "1.2.0",
            "_view_name": "LayoutView",
            "align_content": null,
            "align_items": null,
            "align_self": null,
            "border": null,
            "bottom": null,
            "display": null,
            "flex": null,
            "flex_flow": null,
            "grid_area": null,
            "grid_auto_columns": null,
            "grid_auto_flow": null,
            "grid_auto_rows": null,
            "grid_column": null,
            "grid_gap": null,
            "grid_row": null,
            "grid_template_areas": null,
            "grid_template_columns": null,
            "grid_template_rows": null,
            "height": null,
            "justify_content": null,
            "justify_items": null,
            "left": null,
            "margin": null,
            "max_height": null,
            "max_width": null,
            "min_height": null,
            "min_width": null,
            "object_fit": null,
            "object_position": null,
            "order": null,
            "overflow": null,
            "overflow_x": null,
            "overflow_y": null,
            "padding": null,
            "right": null,
            "top": null,
            "visibility": null,
            "width": null
          }
        },
        "427529f2bddd485a95a2fe3fe235c448": {
          "model_module": "@jupyter-widgets/controls",
          "model_name": "ProgressStyleModel",
          "model_module_version": "1.5.0",
          "state": {
            "_model_module": "@jupyter-widgets/controls",
            "_model_module_version": "1.5.0",
            "_model_name": "ProgressStyleModel",
            "_view_count": null,
            "_view_module": "@jupyter-widgets/base",
            "_view_module_version": "1.2.0",
            "_view_name": "StyleView",
            "bar_color": null,
            "description_width": ""
          }
        },
        "4b4eebb74a7848108762b619426db252": {
          "model_module": "@jupyter-widgets/base",
          "model_name": "LayoutModel",
          "model_module_version": "1.2.0",
          "state": {
            "_model_module": "@jupyter-widgets/base",
            "_model_module_version": "1.2.0",
            "_model_name": "LayoutModel",
            "_view_count": null,
            "_view_module": "@jupyter-widgets/base",
            "_view_module_version": "1.2.0",
            "_view_name": "LayoutView",
            "align_content": null,
            "align_items": null,
            "align_self": null,
            "border": null,
            "bottom": null,
            "display": null,
            "flex": null,
            "flex_flow": null,
            "grid_area": null,
            "grid_auto_columns": null,
            "grid_auto_flow": null,
            "grid_auto_rows": null,
            "grid_column": null,
            "grid_gap": null,
            "grid_row": null,
            "grid_template_areas": null,
            "grid_template_columns": null,
            "grid_template_rows": null,
            "height": null,
            "justify_content": null,
            "justify_items": null,
            "left": null,
            "margin": null,
            "max_height": null,
            "max_width": null,
            "min_height": null,
            "min_width": null,
            "object_fit": null,
            "object_position": null,
            "order": null,
            "overflow": null,
            "overflow_x": null,
            "overflow_y": null,
            "padding": null,
            "right": null,
            "top": null,
            "visibility": null,
            "width": null
          }
        },
        "d8c52f4fa9f344648a0906b3d5825be9": {
          "model_module": "@jupyter-widgets/controls",
          "model_name": "DescriptionStyleModel",
          "model_module_version": "1.5.0",
          "state": {
            "_model_module": "@jupyter-widgets/controls",
            "_model_module_version": "1.5.0",
            "_model_name": "DescriptionStyleModel",
            "_view_count": null,
            "_view_module": "@jupyter-widgets/base",
            "_view_module_version": "1.2.0",
            "_view_name": "StyleView",
            "description_width": ""
          }
        },
        "fce17b79f5804acfa9ab93b5c051c373": {
          "model_module": "@jupyter-widgets/controls",
          "model_name": "HBoxModel",
          "model_module_version": "1.5.0",
          "state": {
            "_dom_classes": [],
            "_model_module": "@jupyter-widgets/controls",
            "_model_module_version": "1.5.0",
            "_model_name": "HBoxModel",
            "_view_count": null,
            "_view_module": "@jupyter-widgets/controls",
            "_view_module_version": "1.5.0",
            "_view_name": "HBoxView",
            "box_style": "",
            "children": [
              "IPY_MODEL_395cdb56acd84842a8333217c59b7917",
              "IPY_MODEL_73893ef6a6804860a8b71341ee3b079e",
              "IPY_MODEL_6049e6259c4e4437babf59911a962732"
            ],
            "layout": "IPY_MODEL_5006888e8e52426885a780ff4e934154"
          }
        },
        "395cdb56acd84842a8333217c59b7917": {
          "model_module": "@jupyter-widgets/controls",
          "model_name": "HTMLModel",
          "model_module_version": "1.5.0",
          "state": {
            "_dom_classes": [],
            "_model_module": "@jupyter-widgets/controls",
            "_model_module_version": "1.5.0",
            "_model_name": "HTMLModel",
            "_view_count": null,
            "_view_module": "@jupyter-widgets/controls",
            "_view_module_version": "1.5.0",
            "_view_name": "HTMLView",
            "description": "",
            "description_tooltip": null,
            "layout": "IPY_MODEL_2de7c0d869d14bdb89b25ed46279b79d",
            "placeholder": "​",
            "style": "IPY_MODEL_5cdffc7ee13e48aab9710d77fa90b394",
            "value": "100%"
          }
        },
        "73893ef6a6804860a8b71341ee3b079e": {
          "model_module": "@jupyter-widgets/controls",
          "model_name": "FloatProgressModel",
          "model_module_version": "1.5.0",
          "state": {
            "_dom_classes": [],
            "_model_module": "@jupyter-widgets/controls",
            "_model_module_version": "1.5.0",
            "_model_name": "FloatProgressModel",
            "_view_count": null,
            "_view_module": "@jupyter-widgets/controls",
            "_view_module_version": "1.5.0",
            "_view_name": "ProgressView",
            "bar_style": "success",
            "description": "",
            "description_tooltip": null,
            "layout": "IPY_MODEL_821551a8dbde40d9b4af6dae04f28f40",
            "max": 15000,
            "min": 0,
            "orientation": "horizontal",
            "style": "IPY_MODEL_5f5d9f455dba42cdb8d0f54d18a617ed",
            "value": 15000
          }
        },
        "6049e6259c4e4437babf59911a962732": {
          "model_module": "@jupyter-widgets/controls",
          "model_name": "HTMLModel",
          "model_module_version": "1.5.0",
          "state": {
            "_dom_classes": [],
            "_model_module": "@jupyter-widgets/controls",
            "_model_module_version": "1.5.0",
            "_model_name": "HTMLModel",
            "_view_count": null,
            "_view_module": "@jupyter-widgets/controls",
            "_view_module_version": "1.5.0",
            "_view_name": "HTMLView",
            "description": "",
            "description_tooltip": null,
            "layout": "IPY_MODEL_cfbfdbb4007e4e57a59a2c6ce916f6a6",
            "placeholder": "​",
            "style": "IPY_MODEL_34cb18bbabe84d94ba3188dc8c16e141",
            "value": " 15000/15000 [00:59&lt;00:00, 334.51it/s]"
          }
        },
        "5006888e8e52426885a780ff4e934154": {
          "model_module": "@jupyter-widgets/base",
          "model_name": "LayoutModel",
          "model_module_version": "1.2.0",
          "state": {
            "_model_module": "@jupyter-widgets/base",
            "_model_module_version": "1.2.0",
            "_model_name": "LayoutModel",
            "_view_count": null,
            "_view_module": "@jupyter-widgets/base",
            "_view_module_version": "1.2.0",
            "_view_name": "LayoutView",
            "align_content": null,
            "align_items": null,
            "align_self": null,
            "border": null,
            "bottom": null,
            "display": null,
            "flex": null,
            "flex_flow": null,
            "grid_area": null,
            "grid_auto_columns": null,
            "grid_auto_flow": null,
            "grid_auto_rows": null,
            "grid_column": null,
            "grid_gap": null,
            "grid_row": null,
            "grid_template_areas": null,
            "grid_template_columns": null,
            "grid_template_rows": null,
            "height": null,
            "justify_content": null,
            "justify_items": null,
            "left": null,
            "margin": null,
            "max_height": null,
            "max_width": null,
            "min_height": null,
            "min_width": null,
            "object_fit": null,
            "object_position": null,
            "order": null,
            "overflow": null,
            "overflow_x": null,
            "overflow_y": null,
            "padding": null,
            "right": null,
            "top": null,
            "visibility": null,
            "width": null
          }
        },
        "2de7c0d869d14bdb89b25ed46279b79d": {
          "model_module": "@jupyter-widgets/base",
          "model_name": "LayoutModel",
          "model_module_version": "1.2.0",
          "state": {
            "_model_module": "@jupyter-widgets/base",
            "_model_module_version": "1.2.0",
            "_model_name": "LayoutModel",
            "_view_count": null,
            "_view_module": "@jupyter-widgets/base",
            "_view_module_version": "1.2.0",
            "_view_name": "LayoutView",
            "align_content": null,
            "align_items": null,
            "align_self": null,
            "border": null,
            "bottom": null,
            "display": null,
            "flex": null,
            "flex_flow": null,
            "grid_area": null,
            "grid_auto_columns": null,
            "grid_auto_flow": null,
            "grid_auto_rows": null,
            "grid_column": null,
            "grid_gap": null,
            "grid_row": null,
            "grid_template_areas": null,
            "grid_template_columns": null,
            "grid_template_rows": null,
            "height": null,
            "justify_content": null,
            "justify_items": null,
            "left": null,
            "margin": null,
            "max_height": null,
            "max_width": null,
            "min_height": null,
            "min_width": null,
            "object_fit": null,
            "object_position": null,
            "order": null,
            "overflow": null,
            "overflow_x": null,
            "overflow_y": null,
            "padding": null,
            "right": null,
            "top": null,
            "visibility": null,
            "width": null
          }
        },
        "5cdffc7ee13e48aab9710d77fa90b394": {
          "model_module": "@jupyter-widgets/controls",
          "model_name": "DescriptionStyleModel",
          "model_module_version": "1.5.0",
          "state": {
            "_model_module": "@jupyter-widgets/controls",
            "_model_module_version": "1.5.0",
            "_model_name": "DescriptionStyleModel",
            "_view_count": null,
            "_view_module": "@jupyter-widgets/base",
            "_view_module_version": "1.2.0",
            "_view_name": "StyleView",
            "description_width": ""
          }
        },
        "821551a8dbde40d9b4af6dae04f28f40": {
          "model_module": "@jupyter-widgets/base",
          "model_name": "LayoutModel",
          "model_module_version": "1.2.0",
          "state": {
            "_model_module": "@jupyter-widgets/base",
            "_model_module_version": "1.2.0",
            "_model_name": "LayoutModel",
            "_view_count": null,
            "_view_module": "@jupyter-widgets/base",
            "_view_module_version": "1.2.0",
            "_view_name": "LayoutView",
            "align_content": null,
            "align_items": null,
            "align_self": null,
            "border": null,
            "bottom": null,
            "display": null,
            "flex": null,
            "flex_flow": null,
            "grid_area": null,
            "grid_auto_columns": null,
            "grid_auto_flow": null,
            "grid_auto_rows": null,
            "grid_column": null,
            "grid_gap": null,
            "grid_row": null,
            "grid_template_areas": null,
            "grid_template_columns": null,
            "grid_template_rows": null,
            "height": null,
            "justify_content": null,
            "justify_items": null,
            "left": null,
            "margin": null,
            "max_height": null,
            "max_width": null,
            "min_height": null,
            "min_width": null,
            "object_fit": null,
            "object_position": null,
            "order": null,
            "overflow": null,
            "overflow_x": null,
            "overflow_y": null,
            "padding": null,
            "right": null,
            "top": null,
            "visibility": null,
            "width": null
          }
        },
        "5f5d9f455dba42cdb8d0f54d18a617ed": {
          "model_module": "@jupyter-widgets/controls",
          "model_name": "ProgressStyleModel",
          "model_module_version": "1.5.0",
          "state": {
            "_model_module": "@jupyter-widgets/controls",
            "_model_module_version": "1.5.0",
            "_model_name": "ProgressStyleModel",
            "_view_count": null,
            "_view_module": "@jupyter-widgets/base",
            "_view_module_version": "1.2.0",
            "_view_name": "StyleView",
            "bar_color": null,
            "description_width": ""
          }
        },
        "cfbfdbb4007e4e57a59a2c6ce916f6a6": {
          "model_module": "@jupyter-widgets/base",
          "model_name": "LayoutModel",
          "model_module_version": "1.2.0",
          "state": {
            "_model_module": "@jupyter-widgets/base",
            "_model_module_version": "1.2.0",
            "_model_name": "LayoutModel",
            "_view_count": null,
            "_view_module": "@jupyter-widgets/base",
            "_view_module_version": "1.2.0",
            "_view_name": "LayoutView",
            "align_content": null,
            "align_items": null,
            "align_self": null,
            "border": null,
            "bottom": null,
            "display": null,
            "flex": null,
            "flex_flow": null,
            "grid_area": null,
            "grid_auto_columns": null,
            "grid_auto_flow": null,
            "grid_auto_rows": null,
            "grid_column": null,
            "grid_gap": null,
            "grid_row": null,
            "grid_template_areas": null,
            "grid_template_columns": null,
            "grid_template_rows": null,
            "height": null,
            "justify_content": null,
            "justify_items": null,
            "left": null,
            "margin": null,
            "max_height": null,
            "max_width": null,
            "min_height": null,
            "min_width": null,
            "object_fit": null,
            "object_position": null,
            "order": null,
            "overflow": null,
            "overflow_x": null,
            "overflow_y": null,
            "padding": null,
            "right": null,
            "top": null,
            "visibility": null,
            "width": null
          }
        },
        "34cb18bbabe84d94ba3188dc8c16e141": {
          "model_module": "@jupyter-widgets/controls",
          "model_name": "DescriptionStyleModel",
          "model_module_version": "1.5.0",
          "state": {
            "_model_module": "@jupyter-widgets/controls",
            "_model_module_version": "1.5.0",
            "_model_name": "DescriptionStyleModel",
            "_view_count": null,
            "_view_module": "@jupyter-widgets/base",
            "_view_module_version": "1.2.0",
            "_view_name": "StyleView",
            "description_width": ""
          }
        },
        "7ec93a5ea17146ff8d39a70524860933": {
          "model_module": "@jupyter-widgets/controls",
          "model_name": "HBoxModel",
          "model_module_version": "1.5.0",
          "state": {
            "_dom_classes": [],
            "_model_module": "@jupyter-widgets/controls",
            "_model_module_version": "1.5.0",
            "_model_name": "HBoxModel",
            "_view_count": null,
            "_view_module": "@jupyter-widgets/controls",
            "_view_module_version": "1.5.0",
            "_view_name": "HBoxView",
            "box_style": "",
            "children": [
              "IPY_MODEL_15006b68b5664ec39f582c4164a8b765",
              "IPY_MODEL_c8003608c46a41979e45319840a61289",
              "IPY_MODEL_9e59c2cf53d34cd0b4e5902f09cb64a4"
            ],
            "layout": "IPY_MODEL_54f306229caa4b2280328cc4b9a7d20d"
          }
        },
        "15006b68b5664ec39f582c4164a8b765": {
          "model_module": "@jupyter-widgets/controls",
          "model_name": "HTMLModel",
          "model_module_version": "1.5.0",
          "state": {
            "_dom_classes": [],
            "_model_module": "@jupyter-widgets/controls",
            "_model_module_version": "1.5.0",
            "_model_name": "HTMLModel",
            "_view_count": null,
            "_view_module": "@jupyter-widgets/controls",
            "_view_module_version": "1.5.0",
            "_view_name": "HTMLView",
            "description": "",
            "description_tooltip": null,
            "layout": "IPY_MODEL_e0fe0c8d682d43fa9d569578a7091dd8",
            "placeholder": "​",
            "style": "IPY_MODEL_1315994de7e14e1a83ba8d87201decbd",
            "value": "100%"
          }
        },
        "c8003608c46a41979e45319840a61289": {
          "model_module": "@jupyter-widgets/controls",
          "model_name": "FloatProgressModel",
          "model_module_version": "1.5.0",
          "state": {
            "_dom_classes": [],
            "_model_module": "@jupyter-widgets/controls",
            "_model_module_version": "1.5.0",
            "_model_name": "FloatProgressModel",
            "_view_count": null,
            "_view_module": "@jupyter-widgets/controls",
            "_view_module_version": "1.5.0",
            "_view_name": "ProgressView",
            "bar_style": "success",
            "description": "",
            "description_tooltip": null,
            "layout": "IPY_MODEL_78599df56a874bf58679b53b30c149de",
            "max": 15000,
            "min": 0,
            "orientation": "horizontal",
            "style": "IPY_MODEL_389a21c1ae5a410a9fc6370573912cc9",
            "value": 15000
          }
        },
        "9e59c2cf53d34cd0b4e5902f09cb64a4": {
          "model_module": "@jupyter-widgets/controls",
          "model_name": "HTMLModel",
          "model_module_version": "1.5.0",
          "state": {
            "_dom_classes": [],
            "_model_module": "@jupyter-widgets/controls",
            "_model_module_version": "1.5.0",
            "_model_name": "HTMLModel",
            "_view_count": null,
            "_view_module": "@jupyter-widgets/controls",
            "_view_module_version": "1.5.0",
            "_view_name": "HTMLView",
            "description": "",
            "description_tooltip": null,
            "layout": "IPY_MODEL_adec3b7d3cce4c1e8edcd41725f55019",
            "placeholder": "​",
            "style": "IPY_MODEL_88ad0eb944ea4e859924ddd7425922b3",
            "value": " 15000/15000 [00:57&lt;00:00, 312.61it/s]"
          }
        },
        "54f306229caa4b2280328cc4b9a7d20d": {
          "model_module": "@jupyter-widgets/base",
          "model_name": "LayoutModel",
          "model_module_version": "1.2.0",
          "state": {
            "_model_module": "@jupyter-widgets/base",
            "_model_module_version": "1.2.0",
            "_model_name": "LayoutModel",
            "_view_count": null,
            "_view_module": "@jupyter-widgets/base",
            "_view_module_version": "1.2.0",
            "_view_name": "LayoutView",
            "align_content": null,
            "align_items": null,
            "align_self": null,
            "border": null,
            "bottom": null,
            "display": null,
            "flex": null,
            "flex_flow": null,
            "grid_area": null,
            "grid_auto_columns": null,
            "grid_auto_flow": null,
            "grid_auto_rows": null,
            "grid_column": null,
            "grid_gap": null,
            "grid_row": null,
            "grid_template_areas": null,
            "grid_template_columns": null,
            "grid_template_rows": null,
            "height": null,
            "justify_content": null,
            "justify_items": null,
            "left": null,
            "margin": null,
            "max_height": null,
            "max_width": null,
            "min_height": null,
            "min_width": null,
            "object_fit": null,
            "object_position": null,
            "order": null,
            "overflow": null,
            "overflow_x": null,
            "overflow_y": null,
            "padding": null,
            "right": null,
            "top": null,
            "visibility": null,
            "width": null
          }
        },
        "e0fe0c8d682d43fa9d569578a7091dd8": {
          "model_module": "@jupyter-widgets/base",
          "model_name": "LayoutModel",
          "model_module_version": "1.2.0",
          "state": {
            "_model_module": "@jupyter-widgets/base",
            "_model_module_version": "1.2.0",
            "_model_name": "LayoutModel",
            "_view_count": null,
            "_view_module": "@jupyter-widgets/base",
            "_view_module_version": "1.2.0",
            "_view_name": "LayoutView",
            "align_content": null,
            "align_items": null,
            "align_self": null,
            "border": null,
            "bottom": null,
            "display": null,
            "flex": null,
            "flex_flow": null,
            "grid_area": null,
            "grid_auto_columns": null,
            "grid_auto_flow": null,
            "grid_auto_rows": null,
            "grid_column": null,
            "grid_gap": null,
            "grid_row": null,
            "grid_template_areas": null,
            "grid_template_columns": null,
            "grid_template_rows": null,
            "height": null,
            "justify_content": null,
            "justify_items": null,
            "left": null,
            "margin": null,
            "max_height": null,
            "max_width": null,
            "min_height": null,
            "min_width": null,
            "object_fit": null,
            "object_position": null,
            "order": null,
            "overflow": null,
            "overflow_x": null,
            "overflow_y": null,
            "padding": null,
            "right": null,
            "top": null,
            "visibility": null,
            "width": null
          }
        },
        "1315994de7e14e1a83ba8d87201decbd": {
          "model_module": "@jupyter-widgets/controls",
          "model_name": "DescriptionStyleModel",
          "model_module_version": "1.5.0",
          "state": {
            "_model_module": "@jupyter-widgets/controls",
            "_model_module_version": "1.5.0",
            "_model_name": "DescriptionStyleModel",
            "_view_count": null,
            "_view_module": "@jupyter-widgets/base",
            "_view_module_version": "1.2.0",
            "_view_name": "StyleView",
            "description_width": ""
          }
        },
        "78599df56a874bf58679b53b30c149de": {
          "model_module": "@jupyter-widgets/base",
          "model_name": "LayoutModel",
          "model_module_version": "1.2.0",
          "state": {
            "_model_module": "@jupyter-widgets/base",
            "_model_module_version": "1.2.0",
            "_model_name": "LayoutModel",
            "_view_count": null,
            "_view_module": "@jupyter-widgets/base",
            "_view_module_version": "1.2.0",
            "_view_name": "LayoutView",
            "align_content": null,
            "align_items": null,
            "align_self": null,
            "border": null,
            "bottom": null,
            "display": null,
            "flex": null,
            "flex_flow": null,
            "grid_area": null,
            "grid_auto_columns": null,
            "grid_auto_flow": null,
            "grid_auto_rows": null,
            "grid_column": null,
            "grid_gap": null,
            "grid_row": null,
            "grid_template_areas": null,
            "grid_template_columns": null,
            "grid_template_rows": null,
            "height": null,
            "justify_content": null,
            "justify_items": null,
            "left": null,
            "margin": null,
            "max_height": null,
            "max_width": null,
            "min_height": null,
            "min_width": null,
            "object_fit": null,
            "object_position": null,
            "order": null,
            "overflow": null,
            "overflow_x": null,
            "overflow_y": null,
            "padding": null,
            "right": null,
            "top": null,
            "visibility": null,
            "width": null
          }
        },
        "389a21c1ae5a410a9fc6370573912cc9": {
          "model_module": "@jupyter-widgets/controls",
          "model_name": "ProgressStyleModel",
          "model_module_version": "1.5.0",
          "state": {
            "_model_module": "@jupyter-widgets/controls",
            "_model_module_version": "1.5.0",
            "_model_name": "ProgressStyleModel",
            "_view_count": null,
            "_view_module": "@jupyter-widgets/base",
            "_view_module_version": "1.2.0",
            "_view_name": "StyleView",
            "bar_color": null,
            "description_width": ""
          }
        },
        "adec3b7d3cce4c1e8edcd41725f55019": {
          "model_module": "@jupyter-widgets/base",
          "model_name": "LayoutModel",
          "model_module_version": "1.2.0",
          "state": {
            "_model_module": "@jupyter-widgets/base",
            "_model_module_version": "1.2.0",
            "_model_name": "LayoutModel",
            "_view_count": null,
            "_view_module": "@jupyter-widgets/base",
            "_view_module_version": "1.2.0",
            "_view_name": "LayoutView",
            "align_content": null,
            "align_items": null,
            "align_self": null,
            "border": null,
            "bottom": null,
            "display": null,
            "flex": null,
            "flex_flow": null,
            "grid_area": null,
            "grid_auto_columns": null,
            "grid_auto_flow": null,
            "grid_auto_rows": null,
            "grid_column": null,
            "grid_gap": null,
            "grid_row": null,
            "grid_template_areas": null,
            "grid_template_columns": null,
            "grid_template_rows": null,
            "height": null,
            "justify_content": null,
            "justify_items": null,
            "left": null,
            "margin": null,
            "max_height": null,
            "max_width": null,
            "min_height": null,
            "min_width": null,
            "object_fit": null,
            "object_position": null,
            "order": null,
            "overflow": null,
            "overflow_x": null,
            "overflow_y": null,
            "padding": null,
            "right": null,
            "top": null,
            "visibility": null,
            "width": null
          }
        },
        "88ad0eb944ea4e859924ddd7425922b3": {
          "model_module": "@jupyter-widgets/controls",
          "model_name": "DescriptionStyleModel",
          "model_module_version": "1.5.0",
          "state": {
            "_model_module": "@jupyter-widgets/controls",
            "_model_module_version": "1.5.0",
            "_model_name": "DescriptionStyleModel",
            "_view_count": null,
            "_view_module": "@jupyter-widgets/base",
            "_view_module_version": "1.2.0",
            "_view_name": "StyleView",
            "description_width": ""
          }
        },
        "304e65828d7241318940c173cee6a666": {
          "model_module": "@jupyter-widgets/controls",
          "model_name": "HBoxModel",
          "model_module_version": "1.5.0",
          "state": {
            "_dom_classes": [],
            "_model_module": "@jupyter-widgets/controls",
            "_model_module_version": "1.5.0",
            "_model_name": "HBoxModel",
            "_view_count": null,
            "_view_module": "@jupyter-widgets/controls",
            "_view_module_version": "1.5.0",
            "_view_name": "HBoxView",
            "box_style": "",
            "children": [
              "IPY_MODEL_1d223a6069d243fd819f618b830f097c",
              "IPY_MODEL_085056fa6d1b47a4813dfe78ca8f2bb4",
              "IPY_MODEL_63f4b0979cbe4628945f98a1480f6baa"
            ],
            "layout": "IPY_MODEL_3da0c2541ef442fa84eea014d97b5b0c"
          }
        },
        "1d223a6069d243fd819f618b830f097c": {
          "model_module": "@jupyter-widgets/controls",
          "model_name": "HTMLModel",
          "model_module_version": "1.5.0",
          "state": {
            "_dom_classes": [],
            "_model_module": "@jupyter-widgets/controls",
            "_model_module_version": "1.5.0",
            "_model_name": "HTMLModel",
            "_view_count": null,
            "_view_module": "@jupyter-widgets/controls",
            "_view_module_version": "1.5.0",
            "_view_name": "HTMLView",
            "description": "",
            "description_tooltip": null,
            "layout": "IPY_MODEL_50b8019078c44b76be3fbe3f158d21c0",
            "placeholder": "​",
            "style": "IPY_MODEL_9eed20b622b94267a6910731455bf13d",
            "value": "100%"
          }
        },
        "085056fa6d1b47a4813dfe78ca8f2bb4": {
          "model_module": "@jupyter-widgets/controls",
          "model_name": "FloatProgressModel",
          "model_module_version": "1.5.0",
          "state": {
            "_dom_classes": [],
            "_model_module": "@jupyter-widgets/controls",
            "_model_module_version": "1.5.0",
            "_model_name": "FloatProgressModel",
            "_view_count": null,
            "_view_module": "@jupyter-widgets/controls",
            "_view_module_version": "1.5.0",
            "_view_name": "ProgressView",
            "bar_style": "success",
            "description": "",
            "description_tooltip": null,
            "layout": "IPY_MODEL_f723ce6903a04b5894fd714a84287456",
            "max": 2500,
            "min": 0,
            "orientation": "horizontal",
            "style": "IPY_MODEL_f5eecee983a04176bb1869ac22869860",
            "value": 2500
          }
        },
        "63f4b0979cbe4628945f98a1480f6baa": {
          "model_module": "@jupyter-widgets/controls",
          "model_name": "HTMLModel",
          "model_module_version": "1.5.0",
          "state": {
            "_dom_classes": [],
            "_model_module": "@jupyter-widgets/controls",
            "_model_module_version": "1.5.0",
            "_model_name": "HTMLModel",
            "_view_count": null,
            "_view_module": "@jupyter-widgets/controls",
            "_view_module_version": "1.5.0",
            "_view_name": "HTMLView",
            "description": "",
            "description_tooltip": null,
            "layout": "IPY_MODEL_01e89355111d4f859ce137a66563a2fb",
            "placeholder": "​",
            "style": "IPY_MODEL_f12d093eac5649ba93c0761c7d3b24f5",
            "value": " 2500/2500 [00:10&lt;00:00, 356.77it/s]"
          }
        },
        "3da0c2541ef442fa84eea014d97b5b0c": {
          "model_module": "@jupyter-widgets/base",
          "model_name": "LayoutModel",
          "model_module_version": "1.2.0",
          "state": {
            "_model_module": "@jupyter-widgets/base",
            "_model_module_version": "1.2.0",
            "_model_name": "LayoutModel",
            "_view_count": null,
            "_view_module": "@jupyter-widgets/base",
            "_view_module_version": "1.2.0",
            "_view_name": "LayoutView",
            "align_content": null,
            "align_items": null,
            "align_self": null,
            "border": null,
            "bottom": null,
            "display": null,
            "flex": null,
            "flex_flow": null,
            "grid_area": null,
            "grid_auto_columns": null,
            "grid_auto_flow": null,
            "grid_auto_rows": null,
            "grid_column": null,
            "grid_gap": null,
            "grid_row": null,
            "grid_template_areas": null,
            "grid_template_columns": null,
            "grid_template_rows": null,
            "height": null,
            "justify_content": null,
            "justify_items": null,
            "left": null,
            "margin": null,
            "max_height": null,
            "max_width": null,
            "min_height": null,
            "min_width": null,
            "object_fit": null,
            "object_position": null,
            "order": null,
            "overflow": null,
            "overflow_x": null,
            "overflow_y": null,
            "padding": null,
            "right": null,
            "top": null,
            "visibility": null,
            "width": null
          }
        },
        "50b8019078c44b76be3fbe3f158d21c0": {
          "model_module": "@jupyter-widgets/base",
          "model_name": "LayoutModel",
          "model_module_version": "1.2.0",
          "state": {
            "_model_module": "@jupyter-widgets/base",
            "_model_module_version": "1.2.0",
            "_model_name": "LayoutModel",
            "_view_count": null,
            "_view_module": "@jupyter-widgets/base",
            "_view_module_version": "1.2.0",
            "_view_name": "LayoutView",
            "align_content": null,
            "align_items": null,
            "align_self": null,
            "border": null,
            "bottom": null,
            "display": null,
            "flex": null,
            "flex_flow": null,
            "grid_area": null,
            "grid_auto_columns": null,
            "grid_auto_flow": null,
            "grid_auto_rows": null,
            "grid_column": null,
            "grid_gap": null,
            "grid_row": null,
            "grid_template_areas": null,
            "grid_template_columns": null,
            "grid_template_rows": null,
            "height": null,
            "justify_content": null,
            "justify_items": null,
            "left": null,
            "margin": null,
            "max_height": null,
            "max_width": null,
            "min_height": null,
            "min_width": null,
            "object_fit": null,
            "object_position": null,
            "order": null,
            "overflow": null,
            "overflow_x": null,
            "overflow_y": null,
            "padding": null,
            "right": null,
            "top": null,
            "visibility": null,
            "width": null
          }
        },
        "9eed20b622b94267a6910731455bf13d": {
          "model_module": "@jupyter-widgets/controls",
          "model_name": "DescriptionStyleModel",
          "model_module_version": "1.5.0",
          "state": {
            "_model_module": "@jupyter-widgets/controls",
            "_model_module_version": "1.5.0",
            "_model_name": "DescriptionStyleModel",
            "_view_count": null,
            "_view_module": "@jupyter-widgets/base",
            "_view_module_version": "1.2.0",
            "_view_name": "StyleView",
            "description_width": ""
          }
        },
        "f723ce6903a04b5894fd714a84287456": {
          "model_module": "@jupyter-widgets/base",
          "model_name": "LayoutModel",
          "model_module_version": "1.2.0",
          "state": {
            "_model_module": "@jupyter-widgets/base",
            "_model_module_version": "1.2.0",
            "_model_name": "LayoutModel",
            "_view_count": null,
            "_view_module": "@jupyter-widgets/base",
            "_view_module_version": "1.2.0",
            "_view_name": "LayoutView",
            "align_content": null,
            "align_items": null,
            "align_self": null,
            "border": null,
            "bottom": null,
            "display": null,
            "flex": null,
            "flex_flow": null,
            "grid_area": null,
            "grid_auto_columns": null,
            "grid_auto_flow": null,
            "grid_auto_rows": null,
            "grid_column": null,
            "grid_gap": null,
            "grid_row": null,
            "grid_template_areas": null,
            "grid_template_columns": null,
            "grid_template_rows": null,
            "height": null,
            "justify_content": null,
            "justify_items": null,
            "left": null,
            "margin": null,
            "max_height": null,
            "max_width": null,
            "min_height": null,
            "min_width": null,
            "object_fit": null,
            "object_position": null,
            "order": null,
            "overflow": null,
            "overflow_x": null,
            "overflow_y": null,
            "padding": null,
            "right": null,
            "top": null,
            "visibility": null,
            "width": null
          }
        },
        "f5eecee983a04176bb1869ac22869860": {
          "model_module": "@jupyter-widgets/controls",
          "model_name": "ProgressStyleModel",
          "model_module_version": "1.5.0",
          "state": {
            "_model_module": "@jupyter-widgets/controls",
            "_model_module_version": "1.5.0",
            "_model_name": "ProgressStyleModel",
            "_view_count": null,
            "_view_module": "@jupyter-widgets/base",
            "_view_module_version": "1.2.0",
            "_view_name": "StyleView",
            "bar_color": null,
            "description_width": ""
          }
        },
        "01e89355111d4f859ce137a66563a2fb": {
          "model_module": "@jupyter-widgets/base",
          "model_name": "LayoutModel",
          "model_module_version": "1.2.0",
          "state": {
            "_model_module": "@jupyter-widgets/base",
            "_model_module_version": "1.2.0",
            "_model_name": "LayoutModel",
            "_view_count": null,
            "_view_module": "@jupyter-widgets/base",
            "_view_module_version": "1.2.0",
            "_view_name": "LayoutView",
            "align_content": null,
            "align_items": null,
            "align_self": null,
            "border": null,
            "bottom": null,
            "display": null,
            "flex": null,
            "flex_flow": null,
            "grid_area": null,
            "grid_auto_columns": null,
            "grid_auto_flow": null,
            "grid_auto_rows": null,
            "grid_column": null,
            "grid_gap": null,
            "grid_row": null,
            "grid_template_areas": null,
            "grid_template_columns": null,
            "grid_template_rows": null,
            "height": null,
            "justify_content": null,
            "justify_items": null,
            "left": null,
            "margin": null,
            "max_height": null,
            "max_width": null,
            "min_height": null,
            "min_width": null,
            "object_fit": null,
            "object_position": null,
            "order": null,
            "overflow": null,
            "overflow_x": null,
            "overflow_y": null,
            "padding": null,
            "right": null,
            "top": null,
            "visibility": null,
            "width": null
          }
        },
        "f12d093eac5649ba93c0761c7d3b24f5": {
          "model_module": "@jupyter-widgets/controls",
          "model_name": "DescriptionStyleModel",
          "model_module_version": "1.5.0",
          "state": {
            "_model_module": "@jupyter-widgets/controls",
            "_model_module_version": "1.5.0",
            "_model_name": "DescriptionStyleModel",
            "_view_count": null,
            "_view_module": "@jupyter-widgets/base",
            "_view_module_version": "1.2.0",
            "_view_name": "StyleView",
            "description_width": ""
          }
        }
      }
    }
  },
  "nbformat": 4,
  "nbformat_minor": 0
}